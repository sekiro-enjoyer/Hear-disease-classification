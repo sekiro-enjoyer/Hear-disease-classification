{
 "cells": [
  {
   "cell_type": "markdown",
   "id": "d76ba883-9121-4ce8-bfbe-d3e0c3a20ebb",
   "metadata": {},
   "source": [
    "\n",
    "<!-- Predicting heart disease using machine learning -->"
   ]
  },
  {
   "cell_type": "markdown",
   "id": "311caed4-aed8-4624-87e1-5ce7a3c812c7",
   "metadata": {},
   "source": [
    "# Predicting heart disease  using machine learning"
   ]
  },
  {
   "cell_type": "markdown",
   "id": "260a4ed5-2371-46e1-b0b1-24a4106a3187",
   "metadata": {},
   "source": [
    "This notebook looks into using various python based machine learnign and data science libraries in an attempt to build a machine learning model capable of predicting whether or not someone has  heart disease based on their medical attributes.\n",
    "\n",
    "we're going to take the following approach: \n",
    "1. Problem defination\n",
    "2. Data\n",
    "3. Evaluation // what defines success\n",
    "4. Features\n",
    "5. Modelling\n",
    "6. Experimentation\n",
    
   ]
  },
  {
   "cell_type": "markdown",
   "id": "85be73d4-678c-4a98-bd88-404b48a36f16",
   "metadata": {},
   "source": [
    "# 1. Problem Defination \n",
    "> Given clinical parameters about a patient can we predict whether or not they have heart disease?\n",
    "> "
   ]
  },
  {
   "cell_type": "markdown",
   "id": "56068a34-3e94-4ebb-be70-e407d16bda7f",
   "metadata": {},
   "source": [
    "# 2. Data \n",
    "The original data came from the Cleaveland data from the UCI Machine Learning Repository.\n",
    "\n",
    "\n"
   ]
  },
  {
   "cell_type": "markdown",
   "id": "8b5673a0-b469-4c26-ba27-7cfe8fe8c398",
   "metadata": {},
   "source": [
    "# 3. Evaluation\n",
    ">If we can reach >80% accuracy we will pursue the project."
   ]
  },
  {
   "cell_type": "markdown",
   "id": "4841475d-e29d-4179-8c77-656bf97a686b",
   "metadata": {},
   "source": [
    "# Features\n",
    "This is where you'll get different information about each of the features in your data.\n",
    "**Create Data dictionary**"
   ]
  },
  {
   "cell_type": "markdown",
   "id": "ad022eb2-feba-4832-b3fb-6d5eda913b30",
   "metadata": {},
   "source": [
    "# Preparing the tools\n",
    "We're going to use Pandas, Numpy, Matplotlib for data analysis and manipulation."
   ]
  },
  {
   "cell_type": "code",
   "execution_count": 4,
   "id": "859ca9ec-38e5-4c83-bea8-0e56bb2e1b1d",
   "metadata": {},
   "outputs": [],
   "source": [
    "import numpy as np\n",
    "import pandas as pd\n",
    "import matplotlib.pyplot as plt\n",
    "import seaborn as sns\n",
    "\n",
    "\n",
    "%matplotlib inline  \n",
    "\n",
    "from sklearn.linear_model import LogisticRegression\n",
    "\n",
    "from sklearn.neighbors import KNeighborsClassifier\n",
    "from sklearn.ensemble import RandomForestClassifier\n",
    "\n",
    "from sklearn.model_selection import train_test_split, cross_val_score\n",
    "from sklearn.model_selection import RandomizedSearchCV, GridSearchCV\n",
    "from sklearn.metrics import confusion_matrix,classification_report\n",
    "from sklearn.metrics import precision_score, recall_score, f1_score\n",
    "from sklearn.metrics import RocCurveDisplay"
   ]
  },
  {
   "cell_type": "markdown",
   "id": "d7da6296-fb23-49cf-a583-54beea62524c",
   "metadata": {},
   "source": [
    "# Load Data"
   ]
  },
  {
   "cell_type": "code",
   "execution_count": 5,
   "id": "32b18f78-433b-40ce-ac97-e685ff63c28d",
   "metadata": {},
   "outputs": [
    {
     "data": {
      "text/html": [
       "<div>\n",
       "<style scoped>\n",
       "    .dataframe tbody tr th:only-of-type {\n",
       "        vertical-align: middle;\n",
       "    }\n",
       "\n",
       "    .dataframe tbody tr th {\n",
       "        vertical-align: top;\n",
       "    }\n",
       "\n",
       "    .dataframe thead th {\n",
       "        text-align: right;\n",
       "    }\n",
       "</style>\n",
       "<table border=\"1\" class=\"dataframe\">\n",
       "  <thead>\n",
       "    <tr style=\"text-align: right;\">\n",
       "      <th></th>\n",
       "      <th>age</th>\n",
       "      <th>sex</th>\n",
       "      <th>cp</th>\n",
       "      <th>trestbps</th>\n",
       "      <th>chol</th>\n",
       "      <th>fbs</th>\n",
       "      <th>restecg</th>\n",
       "      <th>thalach</th>\n",
       "      <th>exang</th>\n",
       "      <th>oldpeak</th>\n",
       "      <th>slope</th>\n",
       "      <th>ca</th>\n",
       "      <th>thal</th>\n",
       "      <th>target</th>\n",
       "    </tr>\n",
       "  </thead>\n",
       "  <tbody>\n",
       "    <tr>\n",
       "      <th>0</th>\n",
       "      <td>63</td>\n",
       "      <td>1</td>\n",
       "      <td>3</td>\n",
       "      <td>145</td>\n",
       "      <td>233</td>\n",
       "      <td>1</td>\n",
       "      <td>0</td>\n",
       "      <td>150</td>\n",
       "      <td>0</td>\n",
       "      <td>2.3</td>\n",
       "      <td>0</td>\n",
       "      <td>0</td>\n",
       "      <td>1</td>\n",
       "      <td>1</td>\n",
       "    </tr>\n",
       "    <tr>\n",
       "      <th>1</th>\n",
       "      <td>37</td>\n",
       "      <td>1</td>\n",
       "      <td>2</td>\n",
       "      <td>130</td>\n",
       "      <td>250</td>\n",
       "      <td>0</td>\n",
       "      <td>1</td>\n",
       "      <td>187</td>\n",
       "      <td>0</td>\n",
       "      <td>3.5</td>\n",
       "      <td>0</td>\n",
       "      <td>0</td>\n",
       "      <td>2</td>\n",
       "      <td>1</td>\n",
       "    </tr>\n",
       "    <tr>\n",
       "      <th>2</th>\n",
       "      <td>41</td>\n",
       "      <td>0</td>\n",
       "      <td>1</td>\n",
       "      <td>130</td>\n",
       "      <td>204</td>\n",
       "      <td>0</td>\n",
       "      <td>0</td>\n",
       "      <td>172</td>\n",
       "      <td>0</td>\n",
       "      <td>1.4</td>\n",
       "      <td>2</td>\n",
       "      <td>0</td>\n",
       "      <td>2</td>\n",
       "      <td>1</td>\n",
       "    </tr>\n",
       "    <tr>\n",
       "      <th>3</th>\n",
       "      <td>56</td>\n",
       "      <td>1</td>\n",
       "      <td>1</td>\n",
       "      <td>120</td>\n",
       "      <td>236</td>\n",
       "      <td>0</td>\n",
       "      <td>1</td>\n",
       "      <td>178</td>\n",
       "      <td>0</td>\n",
       "      <td>0.8</td>\n",
       "      <td>2</td>\n",
       "      <td>0</td>\n",
       "      <td>2</td>\n",
       "      <td>1</td>\n",
       "    </tr>\n",
       "    <tr>\n",
       "      <th>4</th>\n",
       "      <td>57</td>\n",
       "      <td>0</td>\n",
       "      <td>0</td>\n",
       "      <td>120</td>\n",
       "      <td>354</td>\n",
       "      <td>0</td>\n",
       "      <td>1</td>\n",
       "      <td>163</td>\n",
       "      <td>1</td>\n",
       "      <td>0.6</td>\n",
       "      <td>2</td>\n",
       "      <td>0</td>\n",
       "      <td>2</td>\n",
       "      <td>1</td>\n",
       "    </tr>\n",
       "    <tr>\n",
       "      <th>...</th>\n",
       "      <td>...</td>\n",
       "      <td>...</td>\n",
       "      <td>...</td>\n",
       "      <td>...</td>\n",
       "      <td>...</td>\n",
       "      <td>...</td>\n",
       "      <td>...</td>\n",
       "      <td>...</td>\n",
       "      <td>...</td>\n",
       "      <td>...</td>\n",
       "      <td>...</td>\n",
       "      <td>...</td>\n",
       "      <td>...</td>\n",
       "      <td>...</td>\n",
       "    </tr>\n",
       "    <tr>\n",
       "      <th>298</th>\n",
       "      <td>57</td>\n",
       "      <td>0</td>\n",
       "      <td>0</td>\n",
       "      <td>140</td>\n",
       "      <td>241</td>\n",
       "      <td>0</td>\n",
       "      <td>1</td>\n",
       "      <td>123</td>\n",
       "      <td>1</td>\n",
       "      <td>0.2</td>\n",
       "      <td>1</td>\n",
       "      <td>0</td>\n",
       "      <td>3</td>\n",
       "      <td>0</td>\n",
       "    </tr>\n",
       "    <tr>\n",
       "      <th>299</th>\n",
       "      <td>45</td>\n",
       "      <td>1</td>\n",
       "      <td>3</td>\n",
       "      <td>110</td>\n",
       "      <td>264</td>\n",
       "      <td>0</td>\n",
       "      <td>1</td>\n",
       "      <td>132</td>\n",
       "      <td>0</td>\n",
       "      <td>1.2</td>\n",
       "      <td>1</td>\n",
       "      <td>0</td>\n",
       "      <td>3</td>\n",
       "      <td>0</td>\n",
       "    </tr>\n",
       "    <tr>\n",
       "      <th>300</th>\n",
       "      <td>68</td>\n",
       "      <td>1</td>\n",
       "      <td>0</td>\n",
       "      <td>144</td>\n",
       "      <td>193</td>\n",
       "      <td>1</td>\n",
       "      <td>1</td>\n",
       "      <td>141</td>\n",
       "      <td>0</td>\n",
       "      <td>3.4</td>\n",
       "      <td>1</td>\n",
       "      <td>2</td>\n",
       "      <td>3</td>\n",
       "      <td>0</td>\n",
       "    </tr>\n",
       "    <tr>\n",
       "      <th>301</th>\n",
       "      <td>57</td>\n",
       "      <td>1</td>\n",
       "      <td>0</td>\n",
       "      <td>130</td>\n",
       "      <td>131</td>\n",
       "      <td>0</td>\n",
       "      <td>1</td>\n",
       "      <td>115</td>\n",
       "      <td>1</td>\n",
       "      <td>1.2</td>\n",
       "      <td>1</td>\n",
       "      <td>1</td>\n",
       "      <td>3</td>\n",
       "      <td>0</td>\n",
       "    </tr>\n",
       "    <tr>\n",
       "      <th>302</th>\n",
       "      <td>57</td>\n",
       "      <td>0</td>\n",
       "      <td>1</td>\n",
       "      <td>130</td>\n",
       "      <td>236</td>\n",
       "      <td>0</td>\n",
       "      <td>0</td>\n",
       "      <td>174</td>\n",
       "      <td>0</td>\n",
       "      <td>0.0</td>\n",
       "      <td>1</td>\n",
       "      <td>1</td>\n",
       "      <td>2</td>\n",
       "      <td>0</td>\n",
       "    </tr>\n",
       "  </tbody>\n",
       "</table>\n",
       "<p>303 rows × 14 columns</p>\n",
       "</div>"
      ],
      "text/plain": [
       "     age  sex  cp  trestbps  chol  fbs  restecg  thalach  exang  oldpeak  \\\n",
       "0     63    1   3       145   233    1        0      150      0      2.3   \n",
       "1     37    1   2       130   250    0        1      187      0      3.5   \n",
       "2     41    0   1       130   204    0        0      172      0      1.4   \n",
       "3     56    1   1       120   236    0        1      178      0      0.8   \n",
       "4     57    0   0       120   354    0        1      163      1      0.6   \n",
       "..   ...  ...  ..       ...   ...  ...      ...      ...    ...      ...   \n",
       "298   57    0   0       140   241    0        1      123      1      0.2   \n",
       "299   45    1   3       110   264    0        1      132      0      1.2   \n",
       "300   68    1   0       144   193    1        1      141      0      3.4   \n",
       "301   57    1   0       130   131    0        1      115      1      1.2   \n",
       "302   57    0   1       130   236    0        0      174      0      0.0   \n",
       "\n",
       "     slope  ca  thal  target  \n",
       "0        0   0     1       1  \n",
       "1        0   0     2       1  \n",
       "2        2   0     2       1  \n",
       "3        2   0     2       1  \n",
       "4        2   0     2       1  \n",
       "..     ...  ..   ...     ...  \n",
       "298      1   0     3       0  \n",
       "299      1   0     3       0  \n",
       "300      1   2     3       0  \n",
       "301      1   1     3       0  \n",
       "302      1   1     2       0  \n",
       "\n",
       "[303 rows x 14 columns]"
      ]
     },
     "execution_count": 5,
     "metadata": {},
     "output_type": "execute_result"
    }
   ],
   "source": [
    "df = pd.read_csv(\"heart-disease.csv\")\n",
    "# rows and col\n",
    "df.shape \n",
    "df"
   ]
  },
  {
   "cell_type": "markdown",
   "id": "bcaab564-faed-45b8-b29b-9f252f386ef0",
   "metadata": {},
   "source": [
    "# Data exploration (exploratory data analysis EDA)\n",
    "The goal here is to find out more about the data and become a subject matter expert on the dataset we're working with\n",
    "1. What questions are you trying to solve\n",
    "2. What kind of data do we have and how do we treat differnt types\n",
    "3. whats missing from the data\n",
    "4. What are the outliers //outlandish example\n",
    "5. How can you add, change, or remove features to get more out of your data\n",
    
   ]
  },
  {
   "cell_type": "code",
   "execution_count": 6,
   "id": "cbc41e84-8556-4de9-8e76-0f0a021b589e",
   "metadata": {},
   "outputs": [
    {
     "data": {
      "text/html": [
       "<div>\n",
       "<style scoped>\n",
       "    .dataframe tbody tr th:only-of-type {\n",
       "        vertical-align: middle;\n",
       "    }\n",
       "\n",
       "    .dataframe tbody tr th {\n",
       "        vertical-align: top;\n",
       "    }\n",
       "\n",
       "    .dataframe thead th {\n",
       "        text-align: right;\n",
       "    }\n",
       "</style>\n",
       "<table border=\"1\" class=\"dataframe\">\n",
       "  <thead>\n",
       "    <tr style=\"text-align: right;\">\n",
       "      <th></th>\n",
       "      <th>age</th>\n",
       "      <th>sex</th>\n",
       "      <th>cp</th>\n",
       "      <th>trestbps</th>\n",
       "      <th>chol</th>\n",
       "      <th>fbs</th>\n",
       "      <th>restecg</th>\n",
       "      <th>thalach</th>\n",
       "      <th>exang</th>\n",
       "      <th>oldpeak</th>\n",
       "      <th>slope</th>\n",
       "      <th>ca</th>\n",
       "      <th>thal</th>\n",
       "      <th>target</th>\n",
       "    </tr>\n",
       "  </thead>\n",
       "  <tbody>\n",
       "    <tr>\n",
       "      <th>0</th>\n",
       "      <td>63</td>\n",
       "      <td>1</td>\n",
       "      <td>3</td>\n",
       "      <td>145</td>\n",
       "      <td>233</td>\n",
       "      <td>1</td>\n",
       "      <td>0</td>\n",
       "      <td>150</td>\n",
       "      <td>0</td>\n",
       "      <td>2.3</td>\n",
       "      <td>0</td>\n",
       "      <td>0</td>\n",
       "      <td>1</td>\n",
       "      <td>1</td>\n",
       "    </tr>\n",
       "    <tr>\n",
       "      <th>1</th>\n",
       "      <td>37</td>\n",
       "      <td>1</td>\n",
       "      <td>2</td>\n",
       "      <td>130</td>\n",
       "      <td>250</td>\n",
       "      <td>0</td>\n",
       "      <td>1</td>\n",
       "      <td>187</td>\n",
       "      <td>0</td>\n",
       "      <td>3.5</td>\n",
       "      <td>0</td>\n",
       "      <td>0</td>\n",
       "      <td>2</td>\n",
       "      <td>1</td>\n",
       "    </tr>\n",
       "    <tr>\n",
       "      <th>2</th>\n",
       "      <td>41</td>\n",
       "      <td>0</td>\n",
       "      <td>1</td>\n",
       "      <td>130</td>\n",
       "      <td>204</td>\n",
       "      <td>0</td>\n",
       "      <td>0</td>\n",
       "      <td>172</td>\n",
       "      <td>0</td>\n",
       "      <td>1.4</td>\n",
       "      <td>2</td>\n",
       "      <td>0</td>\n",
       "      <td>2</td>\n",
       "      <td>1</td>\n",
       "    </tr>\n",
       "    <tr>\n",
       "      <th>3</th>\n",
       "      <td>56</td>\n",
       "      <td>1</td>\n",
       "      <td>1</td>\n",
       "      <td>120</td>\n",
       "      <td>236</td>\n",
       "      <td>0</td>\n",
       "      <td>1</td>\n",
       "      <td>178</td>\n",
       "      <td>0</td>\n",
       "      <td>0.8</td>\n",
       "      <td>2</td>\n",
       "      <td>0</td>\n",
       "      <td>2</td>\n",
       "      <td>1</td>\n",
       "    </tr>\n",
       "    <tr>\n",
       "      <th>4</th>\n",
       "      <td>57</td>\n",
       "      <td>0</td>\n",
       "      <td>0</td>\n",
       "      <td>120</td>\n",
       "      <td>354</td>\n",
       "      <td>0</td>\n",
       "      <td>1</td>\n",
       "      <td>163</td>\n",
       "      <td>1</td>\n",
       "      <td>0.6</td>\n",
       "      <td>2</td>\n",
       "      <td>0</td>\n",
       "      <td>2</td>\n",
       "      <td>1</td>\n",
       "    </tr>\n",
       "  </tbody>\n",
       "</table>\n",
       "</div>"
      ],
      "text/plain": [
       "   age  sex  cp  trestbps  chol  fbs  restecg  thalach  exang  oldpeak  slope  \\\n",
       "0   63    1   3       145   233    1        0      150      0      2.3      0   \n",
       "1   37    1   2       130   250    0        1      187      0      3.5      0   \n",
       "2   41    0   1       130   204    0        0      172      0      1.4      2   \n",
       "3   56    1   1       120   236    0        1      178      0      0.8      2   \n",
       "4   57    0   0       120   354    0        1      163      1      0.6      2   \n",
       "\n",
       "   ca  thal  target  \n",
       "0   0     1       1  \n",
       "1   0     2       1  \n",
       "2   0     2       1  \n",
       "3   0     2       1  \n",
       "4   0     2       1  "
      ]
     },
     "execution_count": 6,
     "metadata": {},
     "output_type": "execute_result"
    }
   ],
   "source": [
    "df.head()"
   ]
  },
  {
   "cell_type": "code",
   "execution_count": 7,
   "id": "f5727270-3a0f-4594-a7a9-eea4c714d55e",
   "metadata": {},
   "outputs": [
    {
     "data": {
      "image/png": "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",
      "text/plain": [
       "<Figure size 640x480 with 1 Axes>"
      ]
     },
     "metadata": {},
     "output_type": "display_data"
    }
   ],
   "source": [
    "df[\"target\"].value_counts().plot(kind = \"bar\", color = [\"salmon\", \"lightblue\"]);"
   ]
  },
  {
   "cell_type": "code",
   "execution_count": 8,
   "id": "64d95ce5-7bf8-40d9-ba5f-e0450132c3ab",
   "metadata": {},
   "outputs": [
    {
     "name": "stdout",
     "output_type": "stream",
     "text": [
      "<class 'pandas.core.frame.DataFrame'>\n",
      "RangeIndex: 303 entries, 0 to 302\n",
      "Data columns (total 14 columns):\n",
      " #   Column    Non-Null Count  Dtype  \n",
      "---  ------    --------------  -----  \n",
      " 0   age       303 non-null    int64  \n",
      " 1   sex       303 non-null    int64  \n",
      " 2   cp        303 non-null    int64  \n",
      " 3   trestbps  303 non-null    int64  \n",
      " 4   chol      303 non-null    int64  \n",
      " 5   fbs       303 non-null    int64  \n",
      " 6   restecg   303 non-null    int64  \n",
      " 7   thalach   303 non-null    int64  \n",
      " 8   exang     303 non-null    int64  \n",
      " 9   oldpeak   303 non-null    float64\n",
      " 10  slope     303 non-null    int64  \n",
      " 11  ca        303 non-null    int64  \n",
      " 12  thal      303 non-null    int64  \n",
      " 13  target    303 non-null    int64  \n",
      "dtypes: float64(1), int64(13)\n",
      "memory usage: 33.3 KB\n"
     ]
    }
   ],
   "source": [
    "df.info()"
   ]
  },
  {
   "cell_type": "code",
   "execution_count": 9,
   "id": "03ea198b-b413-42bd-b75a-c873c01e87b8",
   "metadata": {},
   "outputs": [
    {
     "data": {
      "text/plain": [
       "age         0\n",
       "sex         0\n",
       "cp          0\n",
       "trestbps    0\n",
       "chol        0\n",
       "fbs         0\n",
       "restecg     0\n",
       "thalach     0\n",
       "exang       0\n",
       "oldpeak     0\n",
       "slope       0\n",
       "ca          0\n",
       "thal        0\n",
       "target      0\n",
       "dtype: int64"
      ]
     },
     "execution_count": 9,
     "metadata": {},
     "output_type": "execute_result"
    }
   ],
   "source": [
    "# if missing values\n",
    "df.isna().sum()"
   ]
  },
  {
   "cell_type": "code",
   "execution_count": 10,
   "id": "3a32e323-c52e-4c0f-ad3b-1d8c4cb49e84",
   "metadata": {},
   "outputs": [
    {
     "data": {
      "text/html": [
       "<div>\n",
       "<style scoped>\n",
       "    .dataframe tbody tr th:only-of-type {\n",
       "        vertical-align: middle;\n",
       "    }\n",
       "\n",
       "    .dataframe tbody tr th {\n",
       "        vertical-align: top;\n",
       "    }\n",
       "\n",
       "    .dataframe thead th {\n",
       "        text-align: right;\n",
       "    }\n",
       "</style>\n",
       "<table border=\"1\" class=\"dataframe\">\n",
       "  <thead>\n",
       "    <tr style=\"text-align: right;\">\n",
       "      <th></th>\n",
       "      <th>age</th>\n",
       "      <th>sex</th>\n",
       "      <th>cp</th>\n",
       "      <th>trestbps</th>\n",
       "      <th>chol</th>\n",
       "      <th>fbs</th>\n",
       "      <th>restecg</th>\n",
       "      <th>thalach</th>\n",
       "      <th>exang</th>\n",
       "      <th>oldpeak</th>\n",
       "      <th>slope</th>\n",
       "      <th>ca</th>\n",
       "      <th>thal</th>\n",
       "      <th>target</th>\n",
       "    </tr>\n",
       "  </thead>\n",
       "  <tbody>\n",
       "    <tr>\n",
       "      <th>count</th>\n",
       "      <td>303.000000</td>\n",
       "      <td>303.000000</td>\n",
       "      <td>303.000000</td>\n",
       "      <td>303.000000</td>\n",
       "      <td>303.000000</td>\n",
       "      <td>303.000000</td>\n",
       "      <td>303.000000</td>\n",
       "      <td>303.000000</td>\n",
       "      <td>303.000000</td>\n",
       "      <td>303.000000</td>\n",
       "      <td>303.000000</td>\n",
       "      <td>303.000000</td>\n",
       "      <td>303.000000</td>\n",
       "      <td>303.000000</td>\n",
       "    </tr>\n",
       "    <tr>\n",
       "      <th>mean</th>\n",
       "      <td>54.366337</td>\n",
       "      <td>0.683168</td>\n",
       "      <td>0.966997</td>\n",
       "      <td>131.623762</td>\n",
       "      <td>246.264026</td>\n",
       "      <td>0.148515</td>\n",
       "      <td>0.528053</td>\n",
       "      <td>149.646865</td>\n",
       "      <td>0.326733</td>\n",
       "      <td>1.039604</td>\n",
       "      <td>1.399340</td>\n",
       "      <td>0.729373</td>\n",
       "      <td>2.313531</td>\n",
       "      <td>0.544554</td>\n",
       "    </tr>\n",
       "    <tr>\n",
       "      <th>std</th>\n",
       "      <td>9.082101</td>\n",
       "      <td>0.466011</td>\n",
       "      <td>1.032052</td>\n",
       "      <td>17.538143</td>\n",
       "      <td>51.830751</td>\n",
       "      <td>0.356198</td>\n",
       "      <td>0.525860</td>\n",
       "      <td>22.905161</td>\n",
       "      <td>0.469794</td>\n",
       "      <td>1.161075</td>\n",
       "      <td>0.616226</td>\n",
       "      <td>1.022606</td>\n",
       "      <td>0.612277</td>\n",
       "      <td>0.498835</td>\n",
       "    </tr>\n",
       "    <tr>\n",
       "      <th>min</th>\n",
       "      <td>29.000000</td>\n",
       "      <td>0.000000</td>\n",
       "      <td>0.000000</td>\n",
       "      <td>94.000000</td>\n",
       "      <td>126.000000</td>\n",
       "      <td>0.000000</td>\n",
       "      <td>0.000000</td>\n",
       "      <td>71.000000</td>\n",
       "      <td>0.000000</td>\n",
       "      <td>0.000000</td>\n",
       "      <td>0.000000</td>\n",
       "      <td>0.000000</td>\n",
       "      <td>0.000000</td>\n",
       "      <td>0.000000</td>\n",
       "    </tr>\n",
       "    <tr>\n",
       "      <th>25%</th>\n",
       "      <td>47.500000</td>\n",
       "      <td>0.000000</td>\n",
       "      <td>0.000000</td>\n",
       "      <td>120.000000</td>\n",
       "      <td>211.000000</td>\n",
       "      <td>0.000000</td>\n",
       "      <td>0.000000</td>\n",
       "      <td>133.500000</td>\n",
       "      <td>0.000000</td>\n",
       "      <td>0.000000</td>\n",
       "      <td>1.000000</td>\n",
       "      <td>0.000000</td>\n",
       "      <td>2.000000</td>\n",
       "      <td>0.000000</td>\n",
       "    </tr>\n",
       "    <tr>\n",
       "      <th>50%</th>\n",
       "      <td>55.000000</td>\n",
       "      <td>1.000000</td>\n",
       "      <td>1.000000</td>\n",
       "      <td>130.000000</td>\n",
       "      <td>240.000000</td>\n",
       "      <td>0.000000</td>\n",
       "      <td>1.000000</td>\n",
       "      <td>153.000000</td>\n",
       "      <td>0.000000</td>\n",
       "      <td>0.800000</td>\n",
       "      <td>1.000000</td>\n",
       "      <td>0.000000</td>\n",
       "      <td>2.000000</td>\n",
       "      <td>1.000000</td>\n",
       "    </tr>\n",
       "    <tr>\n",
       "      <th>75%</th>\n",
       "      <td>61.000000</td>\n",
       "      <td>1.000000</td>\n",
       "      <td>2.000000</td>\n",
       "      <td>140.000000</td>\n",
       "      <td>274.500000</td>\n",
       "      <td>0.000000</td>\n",
       "      <td>1.000000</td>\n",
       "      <td>166.000000</td>\n",
       "      <td>1.000000</td>\n",
       "      <td>1.600000</td>\n",
       "      <td>2.000000</td>\n",
       "      <td>1.000000</td>\n",
       "      <td>3.000000</td>\n",
       "      <td>1.000000</td>\n",
       "    </tr>\n",
       "    <tr>\n",
       "      <th>max</th>\n",
       "      <td>77.000000</td>\n",
       "      <td>1.000000</td>\n",
       "      <td>3.000000</td>\n",
       "      <td>200.000000</td>\n",
       "      <td>564.000000</td>\n",
       "      <td>1.000000</td>\n",
       "      <td>2.000000</td>\n",
       "      <td>202.000000</td>\n",
       "      <td>1.000000</td>\n",
       "      <td>6.200000</td>\n",
       "      <td>2.000000</td>\n",
       "      <td>4.000000</td>\n",
       "      <td>3.000000</td>\n",
       "      <td>1.000000</td>\n",
       "    </tr>\n",
       "  </tbody>\n",
       "</table>\n",
       "</div>"
      ],
      "text/plain": [
       "              age         sex          cp    trestbps        chol         fbs  \\\n",
       "count  303.000000  303.000000  303.000000  303.000000  303.000000  303.000000   \n",
       "mean    54.366337    0.683168    0.966997  131.623762  246.264026    0.148515   \n",
       "std      9.082101    0.466011    1.032052   17.538143   51.830751    0.356198   \n",
       "min     29.000000    0.000000    0.000000   94.000000  126.000000    0.000000   \n",
       "25%     47.500000    0.000000    0.000000  120.000000  211.000000    0.000000   \n",
       "50%     55.000000    1.000000    1.000000  130.000000  240.000000    0.000000   \n",
       "75%     61.000000    1.000000    2.000000  140.000000  274.500000    0.000000   \n",
       "max     77.000000    1.000000    3.000000  200.000000  564.000000    1.000000   \n",
       "\n",
       "          restecg     thalach       exang     oldpeak       slope          ca  \\\n",
       "count  303.000000  303.000000  303.000000  303.000000  303.000000  303.000000   \n",
       "mean     0.528053  149.646865    0.326733    1.039604    1.399340    0.729373   \n",
       "std      0.525860   22.905161    0.469794    1.161075    0.616226    1.022606   \n",
       "min      0.000000   71.000000    0.000000    0.000000    0.000000    0.000000   \n",
       "25%      0.000000  133.500000    0.000000    0.000000    1.000000    0.000000   \n",
       "50%      1.000000  153.000000    0.000000    0.800000    1.000000    0.000000   \n",
       "75%      1.000000  166.000000    1.000000    1.600000    2.000000    1.000000   \n",
       "max      2.000000  202.000000    1.000000    6.200000    2.000000    4.000000   \n",
       "\n",
       "             thal      target  \n",
       "count  303.000000  303.000000  \n",
       "mean     2.313531    0.544554  \n",
       "std      0.612277    0.498835  \n",
       "min      0.000000    0.000000  \n",
       "25%      2.000000    0.000000  \n",
       "50%      2.000000    1.000000  \n",
       "75%      3.000000    1.000000  \n",
       "max      3.000000    1.000000  "
      ]
     },
     "execution_count": 10,
     "metadata": {},
     "output_type": "execute_result"
    }
   ],
   "source": [
    "df.describe()"
   ]
  },
  {
   "cell_type": "code",
   "execution_count": 11,
   "id": "fcd15888-b146-4c6b-8d7c-c1306d953f68",
   "metadata": {},
   "outputs": [
    {
     "data": {
      "text/plain": [
       "1    207\n",
       "0     96\n",
       "Name: sex, dtype: int64"
      ]
     },
     "execution_count": 11,
     "metadata": {},
     "output_type": "execute_result"
    }
   ],
   "source": [
    "df.sex.value_counts()"
   ]
  },
  {
   "cell_type": "code",
   "execution_count": 12,
   "id": "0096200e-e722-492e-81d2-390123b6192e",
   "metadata": {},
   "outputs": [
    {
     "data": {
      "text/html": [
       "<div>\n",
       "<style scoped>\n",
       "    .dataframe tbody tr th:only-of-type {\n",
       "        vertical-align: middle;\n",
       "    }\n",
       "\n",
       "    .dataframe tbody tr th {\n",
       "        vertical-align: top;\n",
       "    }\n",
       "\n",
       "    .dataframe thead th {\n",
       "        text-align: right;\n",
       "    }\n",
       "</style>\n",
       "<table border=\"1\" class=\"dataframe\">\n",
       "  <thead>\n",
       "    <tr style=\"text-align: right;\">\n",
       "      <th>sex</th>\n",
       "      <th>0</th>\n",
       "      <th>1</th>\n",
       "    </tr>\n",
       "    <tr>\n",
       "      <th>target</th>\n",
       "      <th></th>\n",
       "      <th></th>\n",
       "    </tr>\n",
       "  </thead>\n",
       "  <tbody>\n",
       "    <tr>\n",
       "      <th>0</th>\n",
       "      <td>24</td>\n",
       "      <td>114</td>\n",
       "    </tr>\n",
       "    <tr>\n",
       "      <th>1</th>\n",
       "      <td>72</td>\n",
       "      <td>93</td>\n",
       "    </tr>\n",
       "  </tbody>\n",
       "</table>\n",
       "</div>"
      ],
      "text/plain": [
       "sex      0    1\n",
       "target         \n",
       "0       24  114\n",
       "1       72   93"
      ]
     },
     "execution_count": 12,
     "metadata": {},
     "output_type": "execute_result"
    }
   ],
   "source": [
    "# compare target column with sex column\n",
    "pd.crosstab(df.target, df.sex)\n",
    "# roughly 75 % chance a woman has heart disease"
   ]
  },
  {
   "cell_type": "code",
   "execution_count": 13,
   "id": "f43b6df2-4e74-4980-9d48-dc1f88d69040",
   "metadata": {},
   "outputs": [
    {
     "data": {
      "image/png": "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",
      "text/plain": [
       "<Figure size 1000x600 with 1 Axes>"
      ]
     },
     "metadata": {},
     "output_type": "display_data"
    }
   ],
   "source": [
    "# figsize 10,6 is height , widhth\n",
    "pd.crosstab(df.target, df.sex).plot(kind = \"bar\",figsize = (10,6), color= [\"salmon\", \"lightblue\"])\n",
    "plt.title(\"Heart Disease Frequency for Sex\")\n",
    "plt.xlabel(\"0 = No Disease , 1 = Disease\")\n",
    "plt.ylabel(\"Amount\")\n",
    "plt.legend([\"female\", \"Male\"]);\n",
    "plt.xticks(rotation = 0);"
   ]
  },
  {
   "cell_type": "markdown",
   "id": "2ac290f2-d096-495d-b9b8-136913fbff32",
   "metadata": {},
   "source": [
    "# Age vs Max heart rate for heart disease \n"
   ]
  },
  {
   "cell_type": "code",
   "execution_count": 14,
   "id": "4db09af8-14d9-472d-9983-595da2be442d",
   "metadata": {},
   "outputs": [
    {
     "data": {
      "image/png": "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",
      "text/plain": [
       "<Figure size 1000x600 with 1 Axes>"
      ]
     },
     "metadata": {},
     "output_type": "display_data"
    }
   ],
   "source": [
    "plt.figure(figsize= (10,6))\n",
    "\n",
    "#scatter with positive examples\n",
    "# age where target is 1\n",
    "plt.scatter(df.age[df.target==1], df.thalach[df.target==1], c = \"salmon\")\n",
    "\n",
    "# scatter with negative exxamples\n",
    "plt.scatter(df.age[df.target==0], df.thalach[df.target==0], c = \"lightblue\");\n",
    "\n",
    "plt.title(\"Heart Disease in funciton of Age and Max heart Rate\")\n",
    "plt.xlabel(\"Age\")\n",
    "plt.ylabel(\"max Heart Rate\")\n",
    "plt.legend([\"Diseasee\", \"No Disease\"]);"
   ]
  },
  {
   "cell_type": "code",
   "execution_count": 15,
   "id": "d60b5572-a7d7-4adc-b54f-b4dcba50c419",
   "metadata": {},
   "outputs": [
    {
     "data": {
      "text/plain": [
       "0      63\n",
       "1      37\n",
       "2      41\n",
       "3      56\n",
       "4      57\n",
       "       ..\n",
       "160    56\n",
       "161    55\n",
       "162    41\n",
       "163    38\n",
       "164    38\n",
       "Name: age, Length: 165, dtype: int64"
      ]
     },
     "execution_count": 15,
     "metadata": {},
     "output_type": "execute_result"
    }
   ],
   "source": [
    "# age where target is 1\n",
    "df.age[df.target==1]"
   ]
  },
  {
   "cell_type": "code",
   "execution_count": 16,
   "id": "6e74066a-b8cf-4cdb-8166-b72f56ed432c",
   "metadata": {},
   "outputs": [
    {
     "data": {
      "text/plain": [
       "<Axes: ylabel='Frequency'>"
      ]
     },
     "execution_count": 16,
     "metadata": {},
     "output_type": "execute_result"
    },
    {
     "data": {
      "image/png": "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",
      "text/plain": [
       "<Figure size 640x480 with 1 Axes>"
      ]
     },
     "metadata": {},
     "output_type": "display_data"
    }
   ],
   "source": [
    "# check distribution of age column with a histogram\n",
    "df.age.plot.hist()"
   ]
  },
  {
   "cell_type": "code",
   "execution_count": 17,
   "id": "1c53cd3b-cf0f-4c75-b4d0-c1a9c9556418",
   "metadata": {},
   "outputs": [
    {
     "data": {
      "text/html": [
       "<div>\n",
       "<style scoped>\n",
       "    .dataframe tbody tr th:only-of-type {\n",
       "        vertical-align: middle;\n",
       "    }\n",
       "\n",
       "    .dataframe tbody tr th {\n",
       "        vertical-align: top;\n",
       "    }\n",
       "\n",
       "    .dataframe thead th {\n",
       "        text-align: right;\n",
       "    }\n",
       "</style>\n",
       "<table border=\"1\" class=\"dataframe\">\n",
       "  <thead>\n",
       "    <tr style=\"text-align: right;\">\n",
       "      <th>target</th>\n",
       "      <th>0</th>\n",
       "      <th>1</th>\n",
       "    </tr>\n",
       "    <tr>\n",
       "      <th>cp</th>\n",
       "      <th></th>\n",
       "      <th></th>\n",
       "    </tr>\n",
       "  </thead>\n",
       "  <tbody>\n",
       "    <tr>\n",
       "      <th>0</th>\n",
       "      <td>104</td>\n",
       "      <td>39</td>\n",
       "    </tr>\n",
       "    <tr>\n",
       "      <th>1</th>\n",
       "      <td>9</td>\n",
       "      <td>41</td>\n",
       "    </tr>\n",
       "    <tr>\n",
       "      <th>2</th>\n",
       "      <td>18</td>\n",
       "      <td>69</td>\n",
       "    </tr>\n",
       "    <tr>\n",
       "      <th>3</th>\n",
       "      <td>7</td>\n",
       "      <td>16</td>\n",
       "    </tr>\n",
       "  </tbody>\n",
       "</table>\n",
       "</div>"
      ],
      "text/plain": [
       "target    0   1\n",
       "cp             \n",
       "0       104  39\n",
       "1         9  41\n",
       "2        18  69\n",
       "3         7  16"
      ]
     },
     "execution_count": 17,
     "metadata": {},
     "output_type": "execute_result"
    }
   ],
   "source": [
    "pd.crosstab(df.cp, df.target)\n",
    "# umm somehow chest pain 2 is non heart related but majority of people having chest pain 2 are suffering from heart disease so whats up with that"
   ]
  },
  {
   "cell_type": "code",
   "execution_count": 18,
   "id": "22d57ca6-6c51-467d-bb6c-c765d1023c1d",
   "metadata": {},
   "outputs": [
    {
     "data": {
      "image/png": "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",
      "text/plain": [
       "<Figure size 1000x600 with 1 Axes>"
      ]
     },
     "metadata": {},
     "output_type": "display_data"
    }
   ],
   "source": [
    "pd.crosstab(df.cp, df.target).plot(kind = \"bar\", figsize = (10,6), color = [\"salmon\", \"lightblue\"]) \n",
    "plt.title(\"heart disease frequency per chest pain type\")\n",
    "plt.xlabel(\"chest pain type\")\n",
    "plt.ylabel(\"amount\")\n",
    "plt.legend({\"no disease\" , \"disease\"})\n",
    "plt.xticks(rotation = 0);"
   ]
  },
  {
   "cell_type": "code",
   "execution_count": 19,
   "id": "32fce6c5-e8fc-4d0b-82b8-149bf51e1aae",
   "metadata": {},
   "outputs": [
    {
     "data": {
      "text/html": [
       "<div>\n",
       "<style scoped>\n",
       "    .dataframe tbody tr th:only-of-type {\n",
       "        vertical-align: middle;\n",
       "    }\n",
       "\n",
       "    .dataframe tbody tr th {\n",
       "        vertical-align: top;\n",
       "    }\n",
       "\n",
       "    .dataframe thead th {\n",
       "        text-align: right;\n",
       "    }\n",
       "</style>\n",
       "<table border=\"1\" class=\"dataframe\">\n",
       "  <thead>\n",
       "    <tr style=\"text-align: right;\">\n",
       "      <th></th>\n",
       "      <th>age</th>\n",
       "      <th>sex</th>\n",
       "      <th>cp</th>\n",
       "      <th>trestbps</th>\n",
       "      <th>chol</th>\n",
       "      <th>fbs</th>\n",
       "      <th>restecg</th>\n",
       "      <th>thalach</th>\n",
       "      <th>exang</th>\n",
       "      <th>oldpeak</th>\n",
       "      <th>slope</th>\n",
       "      <th>ca</th>\n",
       "      <th>thal</th>\n",
       "      <th>target</th>\n",
       "    </tr>\n",
       "  </thead>\n",
       "  <tbody>\n",
       "    <tr>\n",
       "      <th>0</th>\n",
       "      <td>63</td>\n",
       "      <td>1</td>\n",
       "      <td>3</td>\n",
       "      <td>145</td>\n",
       "      <td>233</td>\n",
       "      <td>1</td>\n",
       "      <td>0</td>\n",
       "      <td>150</td>\n",
       "      <td>0</td>\n",
       "      <td>2.3</td>\n",
       "      <td>0</td>\n",
       "      <td>0</td>\n",
       "      <td>1</td>\n",
       "      <td>1</td>\n",
       "    </tr>\n",
       "    <tr>\n",
       "      <th>1</th>\n",
       "      <td>37</td>\n",
       "      <td>1</td>\n",
       "      <td>2</td>\n",
       "      <td>130</td>\n",
       "      <td>250</td>\n",
       "      <td>0</td>\n",
       "      <td>1</td>\n",
       "      <td>187</td>\n",
       "      <td>0</td>\n",
       "      <td>3.5</td>\n",
       "      <td>0</td>\n",
       "      <td>0</td>\n",
       "      <td>2</td>\n",
       "      <td>1</td>\n",
       "    </tr>\n",
       "    <tr>\n",
       "      <th>2</th>\n",
       "      <td>41</td>\n",
       "      <td>0</td>\n",
       "      <td>1</td>\n",
       "      <td>130</td>\n",
       "      <td>204</td>\n",
       "      <td>0</td>\n",
       "      <td>0</td>\n",
       "      <td>172</td>\n",
       "      <td>0</td>\n",
       "      <td>1.4</td>\n",
       "      <td>2</td>\n",
       "      <td>0</td>\n",
       "      <td>2</td>\n",
       "      <td>1</td>\n",
       "    </tr>\n",
       "    <tr>\n",
       "      <th>3</th>\n",
       "      <td>56</td>\n",
       "      <td>1</td>\n",
       "      <td>1</td>\n",
       "      <td>120</td>\n",
       "      <td>236</td>\n",
       "      <td>0</td>\n",
       "      <td>1</td>\n",
       "      <td>178</td>\n",
       "      <td>0</td>\n",
       "      <td>0.8</td>\n",
       "      <td>2</td>\n",
       "      <td>0</td>\n",
       "      <td>2</td>\n",
       "      <td>1</td>\n",
       "    </tr>\n",
       "    <tr>\n",
       "      <th>4</th>\n",
       "      <td>57</td>\n",
       "      <td>0</td>\n",
       "      <td>0</td>\n",
       "      <td>120</td>\n",
       "      <td>354</td>\n",
       "      <td>0</td>\n",
       "      <td>1</td>\n",
       "      <td>163</td>\n",
       "      <td>1</td>\n",
       "      <td>0.6</td>\n",
       "      <td>2</td>\n",
       "      <td>0</td>\n",
       "      <td>2</td>\n",
       "      <td>1</td>\n",
       "    </tr>\n",
       "  </tbody>\n",
       "</table>\n",
       "</div>"
      ],
      "text/plain": [
       "   age  sex  cp  trestbps  chol  fbs  restecg  thalach  exang  oldpeak  slope  \\\n",
       "0   63    1   3       145   233    1        0      150      0      2.3      0   \n",
       "1   37    1   2       130   250    0        1      187      0      3.5      0   \n",
       "2   41    0   1       130   204    0        0      172      0      1.4      2   \n",
       "3   56    1   1       120   236    0        1      178      0      0.8      2   \n",
       "4   57    0   0       120   354    0        1      163      1      0.6      2   \n",
       "\n",
       "   ca  thal  target  \n",
       "0   0     1       1  \n",
       "1   0     2       1  \n",
       "2   0     2       1  \n",
       "3   0     2       1  \n",
       "4   0     2       1  "
      ]
     },
     "execution_count": 19,
     "metadata": {},
     "output_type": "execute_result"
    }
   ],
   "source": [
    "df.head()"
   ]
  },
  {
   "cell_type": "code",
   "execution_count": 20,
   "id": "53235499-8619-4924-90fc-2ad3905fb001",
   "metadata": {},
   "outputs": [
    {
     "data": {
      "text/html": [
       "<div>\n",
       "<style scoped>\n",
       "    .dataframe tbody tr th:only-of-type {\n",
       "        vertical-align: middle;\n",
       "    }\n",
       "\n",
       "    .dataframe tbody tr th {\n",
       "        vertical-align: top;\n",
       "    }\n",
       "\n",
       "    .dataframe thead th {\n",
       "        text-align: right;\n",
       "    }\n",
       "</style>\n",
       "<table border=\"1\" class=\"dataframe\">\n",
       "  <thead>\n",
       "    <tr style=\"text-align: right;\">\n",
       "      <th></th>\n",
       "      <th>age</th>\n",
       "      <th>sex</th>\n",
       "      <th>cp</th>\n",
       "      <th>trestbps</th>\n",
       "      <th>chol</th>\n",
       "      <th>fbs</th>\n",
       "      <th>restecg</th>\n",
       "      <th>thalach</th>\n",
       "      <th>exang</th>\n",
       "      <th>oldpeak</th>\n",
       "      <th>slope</th>\n",
       "      <th>ca</th>\n",
       "      <th>thal</th>\n",
       "      <th>target</th>\n",
       "    </tr>\n",
       "  </thead>\n",
       "  <tbody>\n",
       "    <tr>\n",
       "      <th>age</th>\n",
       "      <td>1.000000</td>\n",
       "      <td>-0.098447</td>\n",
       "      <td>-0.068653</td>\n",
       "      <td>0.279351</td>\n",
       "      <td>0.213678</td>\n",
       "      <td>0.121308</td>\n",
       "      <td>-0.116211</td>\n",
       "      <td>-0.398522</td>\n",
       "      <td>0.096801</td>\n",
       "      <td>0.210013</td>\n",
       "      <td>-0.168814</td>\n",
       "      <td>0.276326</td>\n",
       "      <td>0.068001</td>\n",
       "      <td>-0.225439</td>\n",
       "    </tr>\n",
       "    <tr>\n",
       "      <th>sex</th>\n",
       "      <td>-0.098447</td>\n",
       "      <td>1.000000</td>\n",
       "      <td>-0.049353</td>\n",
       "      <td>-0.056769</td>\n",
       "      <td>-0.197912</td>\n",
       "      <td>0.045032</td>\n",
       "      <td>-0.058196</td>\n",
       "      <td>-0.044020</td>\n",
       "      <td>0.141664</td>\n",
       "      <td>0.096093</td>\n",
       "      <td>-0.030711</td>\n",
       "      <td>0.118261</td>\n",
       "      <td>0.210041</td>\n",
       "      <td>-0.280937</td>\n",
       "    </tr>\n",
       "    <tr>\n",
       "      <th>cp</th>\n",
       "      <td>-0.068653</td>\n",
       "      <td>-0.049353</td>\n",
       "      <td>1.000000</td>\n",
       "      <td>0.047608</td>\n",
       "      <td>-0.076904</td>\n",
       "      <td>0.094444</td>\n",
       "      <td>0.044421</td>\n",
       "      <td>0.295762</td>\n",
       "      <td>-0.394280</td>\n",
       "      <td>-0.149230</td>\n",
       "      <td>0.119717</td>\n",
       "      <td>-0.181053</td>\n",
       "      <td>-0.161736</td>\n",
       "      <td>0.433798</td>\n",
       "    </tr>\n",
       "    <tr>\n",
       "      <th>trestbps</th>\n",
       "      <td>0.279351</td>\n",
       "      <td>-0.056769</td>\n",
       "      <td>0.047608</td>\n",
       "      <td>1.000000</td>\n",
       "      <td>0.123174</td>\n",
       "      <td>0.177531</td>\n",
       "      <td>-0.114103</td>\n",
       "      <td>-0.046698</td>\n",
       "      <td>0.067616</td>\n",
       "      <td>0.193216</td>\n",
       "      <td>-0.121475</td>\n",
       "      <td>0.101389</td>\n",
       "      <td>0.062210</td>\n",
       "      <td>-0.144931</td>\n",
       "    </tr>\n",
       "    <tr>\n",
       "      <th>chol</th>\n",
       "      <td>0.213678</td>\n",
       "      <td>-0.197912</td>\n",
       "      <td>-0.076904</td>\n",
       "      <td>0.123174</td>\n",
       "      <td>1.000000</td>\n",
       "      <td>0.013294</td>\n",
       "      <td>-0.151040</td>\n",
       "      <td>-0.009940</td>\n",
       "      <td>0.067023</td>\n",
       "      <td>0.053952</td>\n",
       "      <td>-0.004038</td>\n",
       "      <td>0.070511</td>\n",
       "      <td>0.098803</td>\n",
       "      <td>-0.085239</td>\n",
       "    </tr>\n",
       "    <tr>\n",
       "      <th>fbs</th>\n",
       "      <td>0.121308</td>\n",
       "      <td>0.045032</td>\n",
       "      <td>0.094444</td>\n",
       "      <td>0.177531</td>\n",
       "      <td>0.013294</td>\n",
       "      <td>1.000000</td>\n",
       "      <td>-0.084189</td>\n",
       "      <td>-0.008567</td>\n",
       "      <td>0.025665</td>\n",
       "      <td>0.005747</td>\n",
       "      <td>-0.059894</td>\n",
       "      <td>0.137979</td>\n",
       "      <td>-0.032019</td>\n",
       "      <td>-0.028046</td>\n",
       "    </tr>\n",
       "    <tr>\n",
       "      <th>restecg</th>\n",
       "      <td>-0.116211</td>\n",
       "      <td>-0.058196</td>\n",
       "      <td>0.044421</td>\n",
       "      <td>-0.114103</td>\n",
       "      <td>-0.151040</td>\n",
       "      <td>-0.084189</td>\n",
       "      <td>1.000000</td>\n",
       "      <td>0.044123</td>\n",
       "      <td>-0.070733</td>\n",
       "      <td>-0.058770</td>\n",
       "      <td>0.093045</td>\n",
       "      <td>-0.072042</td>\n",
       "      <td>-0.011981</td>\n",
       "      <td>0.137230</td>\n",
       "    </tr>\n",
       "    <tr>\n",
       "      <th>thalach</th>\n",
       "      <td>-0.398522</td>\n",
       "      <td>-0.044020</td>\n",
       "      <td>0.295762</td>\n",
       "      <td>-0.046698</td>\n",
       "      <td>-0.009940</td>\n",
       "      <td>-0.008567</td>\n",
       "      <td>0.044123</td>\n",
       "      <td>1.000000</td>\n",
       "      <td>-0.378812</td>\n",
       "      <td>-0.344187</td>\n",
       "      <td>0.386784</td>\n",
       "      <td>-0.213177</td>\n",
       "      <td>-0.096439</td>\n",
       "      <td>0.421741</td>\n",
       "    </tr>\n",
       "    <tr>\n",
       "      <th>exang</th>\n",
       "      <td>0.096801</td>\n",
       "      <td>0.141664</td>\n",
       "      <td>-0.394280</td>\n",
       "      <td>0.067616</td>\n",
       "      <td>0.067023</td>\n",
       "      <td>0.025665</td>\n",
       "      <td>-0.070733</td>\n",
       "      <td>-0.378812</td>\n",
       "      <td>1.000000</td>\n",
       "      <td>0.288223</td>\n",
       "      <td>-0.257748</td>\n",
       "      <td>0.115739</td>\n",
       "      <td>0.206754</td>\n",
       "      <td>-0.436757</td>\n",
       "    </tr>\n",
       "    <tr>\n",
       "      <th>oldpeak</th>\n",
       "      <td>0.210013</td>\n",
       "      <td>0.096093</td>\n",
       "      <td>-0.149230</td>\n",
       "      <td>0.193216</td>\n",
       "      <td>0.053952</td>\n",
       "      <td>0.005747</td>\n",
       "      <td>-0.058770</td>\n",
       "      <td>-0.344187</td>\n",
       "      <td>0.288223</td>\n",
       "      <td>1.000000</td>\n",
       "      <td>-0.577537</td>\n",
       "      <td>0.222682</td>\n",
       "      <td>0.210244</td>\n",
       "      <td>-0.430696</td>\n",
       "    </tr>\n",
       "    <tr>\n",
       "      <th>slope</th>\n",
       "      <td>-0.168814</td>\n",
       "      <td>-0.030711</td>\n",
       "      <td>0.119717</td>\n",
       "      <td>-0.121475</td>\n",
       "      <td>-0.004038</td>\n",
       "      <td>-0.059894</td>\n",
       "      <td>0.093045</td>\n",
       "      <td>0.386784</td>\n",
       "      <td>-0.257748</td>\n",
       "      <td>-0.577537</td>\n",
       "      <td>1.000000</td>\n",
       "      <td>-0.080155</td>\n",
       "      <td>-0.104764</td>\n",
       "      <td>0.345877</td>\n",
       "    </tr>\n",
       "    <tr>\n",
       "      <th>ca</th>\n",
       "      <td>0.276326</td>\n",
       "      <td>0.118261</td>\n",
       "      <td>-0.181053</td>\n",
       "      <td>0.101389</td>\n",
       "      <td>0.070511</td>\n",
       "      <td>0.137979</td>\n",
       "      <td>-0.072042</td>\n",
       "      <td>-0.213177</td>\n",
       "      <td>0.115739</td>\n",
       "      <td>0.222682</td>\n",
       "      <td>-0.080155</td>\n",
       "      <td>1.000000</td>\n",
       "      <td>0.151832</td>\n",
       "      <td>-0.391724</td>\n",
       "    </tr>\n",
       "    <tr>\n",
       "      <th>thal</th>\n",
       "      <td>0.068001</td>\n",
       "      <td>0.210041</td>\n",
       "      <td>-0.161736</td>\n",
       "      <td>0.062210</td>\n",
       "      <td>0.098803</td>\n",
       "      <td>-0.032019</td>\n",
       "      <td>-0.011981</td>\n",
       "      <td>-0.096439</td>\n",
       "      <td>0.206754</td>\n",
       "      <td>0.210244</td>\n",
       "      <td>-0.104764</td>\n",
       "      <td>0.151832</td>\n",
       "      <td>1.000000</td>\n",
       "      <td>-0.344029</td>\n",
       "    </tr>\n",
       "    <tr>\n",
       "      <th>target</th>\n",
       "      <td>-0.225439</td>\n",
       "      <td>-0.280937</td>\n",
       "      <td>0.433798</td>\n",
       "      <td>-0.144931</td>\n",
       "      <td>-0.085239</td>\n",
       "      <td>-0.028046</td>\n",
       "      <td>0.137230</td>\n",
       "      <td>0.421741</td>\n",
       "      <td>-0.436757</td>\n",
       "      <td>-0.430696</td>\n",
       "      <td>0.345877</td>\n",
       "      <td>-0.391724</td>\n",
       "      <td>-0.344029</td>\n",
       "      <td>1.000000</td>\n",
       "    </tr>\n",
       "  </tbody>\n",
       "</table>\n",
       "</div>"
      ],
      "text/plain": [
       "               age       sex        cp  trestbps      chol       fbs  \\\n",
       "age       1.000000 -0.098447 -0.068653  0.279351  0.213678  0.121308   \n",
       "sex      -0.098447  1.000000 -0.049353 -0.056769 -0.197912  0.045032   \n",
       "cp       -0.068653 -0.049353  1.000000  0.047608 -0.076904  0.094444   \n",
       "trestbps  0.279351 -0.056769  0.047608  1.000000  0.123174  0.177531   \n",
       "chol      0.213678 -0.197912 -0.076904  0.123174  1.000000  0.013294   \n",
       "fbs       0.121308  0.045032  0.094444  0.177531  0.013294  1.000000   \n",
       "restecg  -0.116211 -0.058196  0.044421 -0.114103 -0.151040 -0.084189   \n",
       "thalach  -0.398522 -0.044020  0.295762 -0.046698 -0.009940 -0.008567   \n",
       "exang     0.096801  0.141664 -0.394280  0.067616  0.067023  0.025665   \n",
       "oldpeak   0.210013  0.096093 -0.149230  0.193216  0.053952  0.005747   \n",
       "slope    -0.168814 -0.030711  0.119717 -0.121475 -0.004038 -0.059894   \n",
       "ca        0.276326  0.118261 -0.181053  0.101389  0.070511  0.137979   \n",
       "thal      0.068001  0.210041 -0.161736  0.062210  0.098803 -0.032019   \n",
       "target   -0.225439 -0.280937  0.433798 -0.144931 -0.085239 -0.028046   \n",
       "\n",
       "           restecg   thalach     exang   oldpeak     slope        ca  \\\n",
       "age      -0.116211 -0.398522  0.096801  0.210013 -0.168814  0.276326   \n",
       "sex      -0.058196 -0.044020  0.141664  0.096093 -0.030711  0.118261   \n",
       "cp        0.044421  0.295762 -0.394280 -0.149230  0.119717 -0.181053   \n",
       "trestbps -0.114103 -0.046698  0.067616  0.193216 -0.121475  0.101389   \n",
       "chol     -0.151040 -0.009940  0.067023  0.053952 -0.004038  0.070511   \n",
       "fbs      -0.084189 -0.008567  0.025665  0.005747 -0.059894  0.137979   \n",
       "restecg   1.000000  0.044123 -0.070733 -0.058770  0.093045 -0.072042   \n",
       "thalach   0.044123  1.000000 -0.378812 -0.344187  0.386784 -0.213177   \n",
       "exang    -0.070733 -0.378812  1.000000  0.288223 -0.257748  0.115739   \n",
       "oldpeak  -0.058770 -0.344187  0.288223  1.000000 -0.577537  0.222682   \n",
       "slope     0.093045  0.386784 -0.257748 -0.577537  1.000000 -0.080155   \n",
       "ca       -0.072042 -0.213177  0.115739  0.222682 -0.080155  1.000000   \n",
       "thal     -0.011981 -0.096439  0.206754  0.210244 -0.104764  0.151832   \n",
       "target    0.137230  0.421741 -0.436757 -0.430696  0.345877 -0.391724   \n",
       "\n",
       "              thal    target  \n",
       "age       0.068001 -0.225439  \n",
       "sex       0.210041 -0.280937  \n",
       "cp       -0.161736  0.433798  \n",
       "trestbps  0.062210 -0.144931  \n",
       "chol      0.098803 -0.085239  \n",
       "fbs      -0.032019 -0.028046  \n",
       "restecg  -0.011981  0.137230  \n",
       "thalach  -0.096439  0.421741  \n",
       "exang     0.206754 -0.436757  \n",
       "oldpeak   0.210244 -0.430696  \n",
       "slope    -0.104764  0.345877  \n",
       "ca        0.151832 -0.391724  \n",
       "thal      1.000000 -0.344029  \n",
       "target   -0.344029  1.000000  "
      ]
     },
     "execution_count": 20,
     "metadata": {},
     "output_type": "execute_result"
    }
   ],
   "source": [
    "# correlation matrix\n",
    "df.corr()"
   ]
  },
  {
   "cell_type": "code",
   "execution_count": 21,
   "id": "ef9298d5-a584-4b8c-8f83-f8a9171387c9",
   "metadata": {},
   "outputs": [
    {
     "data": {
      "image/png": "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",
      "text/plain": [
       "<Figure size 1500x1000 with 2 Axes>"
      ]
     },
     "metadata": {},
     "output_type": "display_data"
    }
   ],
   "source": [
    "corr_matrix = df.corr()\n",
    "fig,ax = plt.subplots(figsize = (15,10))\n",
    "ax = sns.heatmap(corr_matrix, annot = True, linewidths = 0.5, fmt= \".2f\",cmap = \"YlGnBu\");"
   ]
  },
  {
   "cell_type": "code",
   "execution_count": 22,
   "id": "db131a50-cedf-40e9-b32e-84f7fc706b82",
   "metadata": {},
   "outputs": [
    {
     "data": {
      "text/html": [
       "<div>\n",
       "<style scoped>\n",
       "    .dataframe tbody tr th:only-of-type {\n",
       "        vertical-align: middle;\n",
       "    }\n",
       "\n",
       "    .dataframe tbody tr th {\n",
       "        vertical-align: top;\n",
       "    }\n",
       "\n",
       "    .dataframe thead th {\n",
       "        text-align: right;\n",
       "    }\n",
       "</style>\n",
       "<table border=\"1\" class=\"dataframe\">\n",
       "  <thead>\n",
       "    <tr style=\"text-align: right;\">\n",
       "      <th></th>\n",
       "      <th>age</th>\n",
       "      <th>sex</th>\n",
       "      <th>cp</th>\n",
       "      <th>trestbps</th>\n",
       "      <th>chol</th>\n",
       "      <th>fbs</th>\n",
       "      <th>restecg</th>\n",
       "      <th>thalach</th>\n",
       "      <th>exang</th>\n",
       "      <th>oldpeak</th>\n",
       "      <th>slope</th>\n",
       "      <th>ca</th>\n",
       "      <th>thal</th>\n",
       "      <th>target</th>\n",
       "    </tr>\n",
       "  </thead>\n",
       "  <tbody>\n",
       "    <tr>\n",
       "      <th>0</th>\n",
       "      <td>63</td>\n",
       "      <td>1</td>\n",
       "      <td>3</td>\n",
       "      <td>145</td>\n",
       "      <td>233</td>\n",
       "      <td>1</td>\n",
       "      <td>0</td>\n",
       "      <td>150</td>\n",
       "      <td>0</td>\n",
       "      <td>2.3</td>\n",
       "      <td>0</td>\n",
       "      <td>0</td>\n",
       "      <td>1</td>\n",
       "      <td>1</td>\n",
       "    </tr>\n",
       "    <tr>\n",
       "      <th>1</th>\n",
       "      <td>37</td>\n",
       "      <td>1</td>\n",
       "      <td>2</td>\n",
       "      <td>130</td>\n",
       "      <td>250</td>\n",
       "      <td>0</td>\n",
       "      <td>1</td>\n",
       "      <td>187</td>\n",
       "      <td>0</td>\n",
       "      <td>3.5</td>\n",
       "      <td>0</td>\n",
       "      <td>0</td>\n",
       "      <td>2</td>\n",
       "      <td>1</td>\n",
       "    </tr>\n",
       "    <tr>\n",
       "      <th>2</th>\n",
       "      <td>41</td>\n",
       "      <td>0</td>\n",
       "      <td>1</td>\n",
       "      <td>130</td>\n",
       "      <td>204</td>\n",
       "      <td>0</td>\n",
       "      <td>0</td>\n",
       "      <td>172</td>\n",
       "      <td>0</td>\n",
       "      <td>1.4</td>\n",
       "      <td>2</td>\n",
       "      <td>0</td>\n",
       "      <td>2</td>\n",
       "      <td>1</td>\n",
       "    </tr>\n",
       "    <tr>\n",
       "      <th>3</th>\n",
       "      <td>56</td>\n",
       "      <td>1</td>\n",
       "      <td>1</td>\n",
       "      <td>120</td>\n",
       "      <td>236</td>\n",
       "      <td>0</td>\n",
       "      <td>1</td>\n",
       "      <td>178</td>\n",
       "      <td>0</td>\n",
       "      <td>0.8</td>\n",
       "      <td>2</td>\n",
       "      <td>0</td>\n",
       "      <td>2</td>\n",
       "      <td>1</td>\n",
       "    </tr>\n",
       "    <tr>\n",
       "      <th>4</th>\n",
       "      <td>57</td>\n",
       "      <td>0</td>\n",
       "      <td>0</td>\n",
       "      <td>120</td>\n",
       "      <td>354</td>\n",
       "      <td>0</td>\n",
       "      <td>1</td>\n",
       "      <td>163</td>\n",
       "      <td>1</td>\n",
       "      <td>0.6</td>\n",
       "      <td>2</td>\n",
       "      <td>0</td>\n",
       "      <td>2</td>\n",
       "      <td>1</td>\n",
       "    </tr>\n",
       "  </tbody>\n",
       "</table>\n",
       "</div>"
      ],
      "text/plain": [
       "   age  sex  cp  trestbps  chol  fbs  restecg  thalach  exang  oldpeak  slope  \\\n",
       "0   63    1   3       145   233    1        0      150      0      2.3      0   \n",
       "1   37    1   2       130   250    0        1      187      0      3.5      0   \n",
       "2   41    0   1       130   204    0        0      172      0      1.4      2   \n",
       "3   56    1   1       120   236    0        1      178      0      0.8      2   \n",
       "4   57    0   0       120   354    0        1      163      1      0.6      2   \n",
       "\n",
       "   ca  thal  target  \n",
       "0   0     1       1  \n",
       "1   0     2       1  \n",
       "2   0     2       1  \n",
       "3   0     2       1  \n",
       "4   0     2       1  "
      ]
     },
     "execution_count": 22,
     "metadata": {},
     "output_type": "execute_result"
    }
   ],
   "source": [
    "df.head()"
   ]
  },
  {
   "cell_type": "code",
   "execution_count": 23,
   "id": "a706454d-8949-4730-87d7-5f4d85f40968",
   "metadata": {},
   "outputs": [],
   "source": [
    "# split into x and y\n",
    "x = df.drop(\"target\", axis =1)\n",
    "y= df[\"target\"]"
   ]
  },
  {
   "cell_type": "code",
   "execution_count": 24,
   "id": "6482503f-9b05-45bd-a269-1b35821e76da",
   "metadata": {},
   "outputs": [],
   "source": [
    "# split into train and test set\n",
    "np.random.seed(42)\n",
    "\n",
    "x_train, x_test, y_train, y_test = train_test_split(x,y,test_size = 0.2)"
   ]
  },
  {
   "cell_type": "code",
   "execution_count": 25,
   "id": "8efcf17e-ca2a-4b7d-9978-f11686362960",
   "metadata": {},
   "outputs": [],
   "source": [
    "# # splitting is done so now we build a model\n",
    "# # we'll try three different machine laerning models 1. logistic regresssion , 2. k nearest neighbour 3. random forest classifier\n",
    "\n",
    "# # In the line for name, model in models.items():, name is a variable that will hold the key of each item in the models dictionary during each iteration of the loop.\n",
    "\n",
    "# In Python, the items() method for dictionaries returns a view object that displays a list of key-value pairs. In this loop, name will represent the key (which is usually a string) and model will represent the corresponding value (which is typically an object, in this case, a machine learning model).\n",
    "\n",
    "# So, in each iteration of the loop, name will hold the name of the model, and model will hold the actual machine learning model associated with that name. This allows you to access both the name and the model object within the loop."
   ]
  },
  {
   "cell_type": "code",
   "execution_count": 26,
   "id": "fdb3a2e7-adc0-4730-8961-021ab495be52",
   "metadata": {},
   "outputs": [],
   "source": [
    "# put models in dictionary \n",
    "models = { \"Logistic Regression\": LogisticRegression(),\n",
    "          \"KNN\": KNeighborsClassifier(),\n",
    "          \"Random Forest\": RandomForestClassifier()}\n",
    "# create a function to fit and score models\n",
    "def fit_and_score(models, x_train, x_test, y_train, y_test):\n",
    "    np.random.seed(42)\n",
    "    # make dictionary to keep model score\n",
    "    model_scores= {}\n",
    "     # loop through models\n",
    "    for name,model in models.items():\n",
    "        # fit model to the data\n",
    "        model.fit(x_train, y_train)\n",
    "        # put score in model score\n",
    "        model_scores[name]=model.score(x_test, y_test)\n",
    "    return model_scores \n",
    "        "
   ]
  },
  {
   "cell_type": "code",
   "execution_count": 27,
   "id": "2e111ff6-0c2b-4bc5-a35f-81d5c8d33be9",
   "metadata": {},
   "outputs": [
    {
     "name": "stderr",
     "output_type": "stream",
     "text": [
      "C:\\Users\\Sarthak Jain\\anaconda3\\Lib\\site-packages\\sklearn\\linear_model\\_logistic.py:460: ConvergenceWarning: lbfgs failed to converge (status=1):\n",
      "STOP: TOTAL NO. of ITERATIONS REACHED LIMIT.\n",
      "\n",
      "Increase the number of iterations (max_iter) or scale the data as shown in:\n",
      "    https://scikit-learn.org/stable/modules/preprocessing.html\n",
      "Please also refer to the documentation for alternative solver options:\n",
      "    https://scikit-learn.org/stable/modules/linear_model.html#logistic-regression\n",
      "  n_iter_i = _check_optimize_result(\n"
     ]
    },
    {
     "data": {
      "text/plain": [
       "{'Logistic Regression': 0.8852459016393442,\n",
       " 'KNN': 0.6885245901639344,\n",
       " 'Random Forest': 0.8360655737704918}"
      ]
     },
     "execution_count": 27,
     "metadata": {},
     "output_type": "execute_result"
    }
   ],
   "source": [
    "model_scores = fit_and_score(models= models , x_train= x_train, x_test=x_test, y_train=y_train, y_test=y_test)\n",
    "model_scores"
   ]
  },
  {
   "cell_type": "code",
   "execution_count": 28,
   "id": "a583b896-a2ab-4fb2-89f5-7030099bf579",
   "metadata": {},
   "outputs": [
    {
     "data": {
      "image/png": "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",
      "text/plain": [
       "<Figure size 640x480 with 1 Axes>"
      ]
     },
     "metadata": {},
     "output_type": "display_data"
    }
   ],
   "source": [
    "model_compare = pd.DataFrame(model_scores , index= [\"accuracy\"])\n",
    "model_compare.T.plot.bar();"
   ]
  },
  {
   "cell_type": "markdown",
   "id": "91f5fbb9-c621-4c87-b4bf-d5fffaffe834",
   "metadata": {},
   "source": [
    "<!-- Hyperparameter Tuning (BY HAND) -->"
   ]
  },
  {
   "cell_type": "code",
   "execution_count": 29,
   "id": "7cae41eb-8f89-4dbf-8d92-4b5bf887e2b4",
   "metadata": {},
   "outputs": [
    {
     "data": {
      "text/plain": [
       "[1.0,\n",
       " 0.8099173553719008,\n",
       " 0.7727272727272727,\n",
       " 0.743801652892562,\n",
       " 0.7603305785123967,\n",
       " 0.7520661157024794,\n",
       " 0.743801652892562,\n",
       " 0.7231404958677686,\n",
       " 0.71900826446281,\n",
       " 0.6942148760330579,\n",
       " 0.7272727272727273,\n",
       " 0.6983471074380165,\n",
       " 0.6900826446280992,\n",
       " 0.6942148760330579,\n",
       " 0.6859504132231405,\n",
       " 0.6735537190082644,\n",
       " 0.6859504132231405,\n",
       " 0.6652892561983471,\n",
       " 0.6818181818181818,\n",
       " 0.6694214876033058]"
      ]
     },
     "execution_count": 29,
     "metadata": {},
     "output_type": "execute_result"
    }
   ],
   "source": [
    "train_scores = []\n",
    "test_scores = []\n",
    "# create a list of different n_neighbors\n",
    "neighbors= range(1,21)\n",
    "# setup knn instance\n",
    "knn = KNeighborsClassifier()\n",
    "# loop through different n_neighbors\n",
    "for i in neighbors:\n",
    "    knn.set_params(n_neighbors=i)\n",
    "    knn.fit(x_train,y_train)\n",
    "    \n",
    "    train_scores.append(knn.score(x_train,y_train))\n",
    "    test_scores.append(knn.score(x_test, y_test))\n",
    "\n",
    "train_scores"
   ]
  },
  {
   "cell_type": "code",
   "execution_count": 30,
   "id": "526083fd-4d3e-4faa-8cec-9dc6ed4b6f9f",
   "metadata": {},
   "outputs": [
    {
     "data": {
      "text/plain": [
       "[0.6229508196721312,\n",
       " 0.639344262295082,\n",
       " 0.6557377049180327,\n",
       " 0.6721311475409836,\n",
       " 0.6885245901639344,\n",
       " 0.7213114754098361,\n",
       " 0.7049180327868853,\n",
       " 0.6885245901639344,\n",
       " 0.6885245901639344,\n",
       " 0.7049180327868853,\n",
       " 0.7540983606557377,\n",
       " 0.7377049180327869,\n",
       " 0.7377049180327869,\n",
       " 0.7377049180327869,\n",
       " 0.6885245901639344,\n",
       " 0.7213114754098361,\n",
       " 0.6885245901639344,\n",
       " 0.6885245901639344,\n",
       " 0.7049180327868853,\n",
       " 0.6557377049180327]"
      ]
     },
     "execution_count": 30,
     "metadata": {},
     "output_type": "execute_result"
    }
   ],
   "source": [
    "test_scores"
   ]
  },
  {
   "cell_type": "code",
   "execution_count": 31,
   "id": "45ec191e-eeda-4862-9fad-36da8141f8f4",
   "metadata": {},
   "outputs": [
    {
     "name": "stdout",
     "output_type": "stream",
     "text": [
      "Max KNN score on the test set : 75.41%\n"
     ]
    },
    {
     "data": {
      "image/png": "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",
      "text/plain": [
       "<Figure size 640x480 with 1 Axes>"
      ]
     },
     "metadata": {},
     "output_type": "display_data"
    }
   ],
   "source": [
    "plt.plot(neighbors, train_scores,  label = \"Train score\")\n",
    "plt.plot(neighbors, test_scores, label = \"Test score\")\n",
    "plt.xlabel(\"Number of neighbors\")\n",
    "plt.ylabel(\"Model Score\")\n",
    "plt.legend()\n",
    "plt.xticks(np.arange(1,21,1))\n",
    "print(f\"Max KNN score on the test set : {max(test_scores)*100:.2f}%\")\n"
   ]
  },
  {
   "cell_type": "markdown",
   "id": "e58c0348-7041-40c6-873c-3fd55e96a9de",
   "metadata": {},
   "source": [
    "# Even after hyperparameter tuning of knn its accuracy is not good enough so we gonna discard this model"
   ]
  },
  {
   "cell_type": "markdown",
   "id": "07be3dc9-28d8-4c2e-8813-bcc153036555",
   "metadata": {},
   "source": [
    "# Hyperparameter tuing with RandomisedSearchCV()"
   ]
  },
  {
   "cell_type": "code",
   "execution_count": 32,
   "id": "b0cbd355-9af6-4a28-aaa1-286dfe097f10",
   "metadata": {},
   "outputs": [],
   "source": [
    "# create a hyperparameter grid for logisticregression \n",
    "log_reg_grid = {\"C\": np.logspace(-4,4,20), \n",
    "                \"solver\": [\"liblinear\"]}\n",
    "\n",
    "# create a hyperparameter grid for randomforestclassifier\n",
    "rf_grid = {\"n_estimators\": np.arange(10,1000,50),\n",
    "           \"max_depth\": [None, 3,5,10],\n",
    "           \"min_samples_split\": np.arange(2,20,2),\n",
    "           \"min_samples_leaf\": np.arange(1,20,2)}\n",
    "\n",
    "           \n"
   ]
  },
  {
   "cell_type": "code",
   "execution_count": 33,
   "id": "43277597-18dd-4e38-ba41-0c08386b40f5",
   "metadata": {},
   "outputs": [],
   "source": [
    "# NOW we've got hyperparameters grid for each of our model lets tune them using randomised search cv"
   ]
  },
  {
   "cell_type": "code",
   "execution_count": 34,
   "id": "4ad5da8e-b018-41b1-b762-937ae8c8b27b",
   "metadata": {},
   "outputs": [
    {
     "name": "stdout",
     "output_type": "stream",
     "text": [
      "Fitting 5 folds for each of 20 candidates, totalling 100 fits\n"
     ]
    },
    {
     "data": {
      "text/html": [
       "<style>#sk-container-id-1 {color: black;}#sk-container-id-1 pre{padding: 0;}#sk-container-id-1 div.sk-toggleable {background-color: white;}#sk-container-id-1 label.sk-toggleable__label {cursor: pointer;display: block;width: 100%;margin-bottom: 0;padding: 0.3em;box-sizing: border-box;text-align: center;}#sk-container-id-1 label.sk-toggleable__label-arrow:before {content: \"▸\";float: left;margin-right: 0.25em;color: #696969;}#sk-container-id-1 label.sk-toggleable__label-arrow:hover:before {color: black;}#sk-container-id-1 div.sk-estimator:hover label.sk-toggleable__label-arrow:before {color: black;}#sk-container-id-1 div.sk-toggleable__content {max-height: 0;max-width: 0;overflow: hidden;text-align: left;background-color: #f0f8ff;}#sk-container-id-1 div.sk-toggleable__content pre {margin: 0.2em;color: black;border-radius: 0.25em;background-color: #f0f8ff;}#sk-container-id-1 input.sk-toggleable__control:checked~div.sk-toggleable__content {max-height: 200px;max-width: 100%;overflow: auto;}#sk-container-id-1 input.sk-toggleable__control:checked~label.sk-toggleable__label-arrow:before {content: \"▾\";}#sk-container-id-1 div.sk-estimator input.sk-toggleable__control:checked~label.sk-toggleable__label {background-color: #d4ebff;}#sk-container-id-1 div.sk-label input.sk-toggleable__control:checked~label.sk-toggleable__label {background-color: #d4ebff;}#sk-container-id-1 input.sk-hidden--visually {border: 0;clip: rect(1px 1px 1px 1px);clip: rect(1px, 1px, 1px, 1px);height: 1px;margin: -1px;overflow: hidden;padding: 0;position: absolute;width: 1px;}#sk-container-id-1 div.sk-estimator {font-family: monospace;background-color: #f0f8ff;border: 1px dotted black;border-radius: 0.25em;box-sizing: border-box;margin-bottom: 0.5em;}#sk-container-id-1 div.sk-estimator:hover {background-color: #d4ebff;}#sk-container-id-1 div.sk-parallel-item::after {content: \"\";width: 100%;border-bottom: 1px solid gray;flex-grow: 1;}#sk-container-id-1 div.sk-label:hover label.sk-toggleable__label {background-color: #d4ebff;}#sk-container-id-1 div.sk-serial::before {content: \"\";position: absolute;border-left: 1px solid gray;box-sizing: border-box;top: 0;bottom: 0;left: 50%;z-index: 0;}#sk-container-id-1 div.sk-serial {display: flex;flex-direction: column;align-items: center;background-color: white;padding-right: 0.2em;padding-left: 0.2em;position: relative;}#sk-container-id-1 div.sk-item {position: relative;z-index: 1;}#sk-container-id-1 div.sk-parallel {display: flex;align-items: stretch;justify-content: center;background-color: white;position: relative;}#sk-container-id-1 div.sk-item::before, #sk-container-id-1 div.sk-parallel-item::before {content: \"\";position: absolute;border-left: 1px solid gray;box-sizing: border-box;top: 0;bottom: 0;left: 50%;z-index: -1;}#sk-container-id-1 div.sk-parallel-item {display: flex;flex-direction: column;z-index: 1;position: relative;background-color: white;}#sk-container-id-1 div.sk-parallel-item:first-child::after {align-self: flex-end;width: 50%;}#sk-container-id-1 div.sk-parallel-item:last-child::after {align-self: flex-start;width: 50%;}#sk-container-id-1 div.sk-parallel-item:only-child::after {width: 0;}#sk-container-id-1 div.sk-dashed-wrapped {border: 1px dashed gray;margin: 0 0.4em 0.5em 0.4em;box-sizing: border-box;padding-bottom: 0.4em;background-color: white;}#sk-container-id-1 div.sk-label label {font-family: monospace;font-weight: bold;display: inline-block;line-height: 1.2em;}#sk-container-id-1 div.sk-label-container {text-align: center;}#sk-container-id-1 div.sk-container {/* jupyter's `normalize.less` sets `[hidden] { display: none; }` but bootstrap.min.css set `[hidden] { display: none !important; }` so we also need the `!important` here to be able to override the default hidden behavior on the sphinx rendered scikit-learn.org. See: https://github.com/scikit-learn/scikit-learn/issues/21755 */display: inline-block !important;position: relative;}#sk-container-id-1 div.sk-text-repr-fallback {display: none;}</style><div id=\"sk-container-id-1\" class=\"sk-top-container\"><div class=\"sk-text-repr-fallback\"><pre>RandomizedSearchCV(cv=5, estimator=LogisticRegression(), n_iter=20,\n",
       "                   param_distributions={&#x27;C&#x27;: array([1.00000000e-04, 2.63665090e-04, 6.95192796e-04, 1.83298071e-03,\n",
       "       4.83293024e-03, 1.27427499e-02, 3.35981829e-02, 8.85866790e-02,\n",
       "       2.33572147e-01, 6.15848211e-01, 1.62377674e+00, 4.28133240e+00,\n",
       "       1.12883789e+01, 2.97635144e+01, 7.84759970e+01, 2.06913808e+02,\n",
       "       5.45559478e+02, 1.43844989e+03, 3.79269019e+03, 1.00000000e+04]),\n",
       "                                        &#x27;solver&#x27;: [&#x27;liblinear&#x27;]},\n",
       "                   verbose=True)</pre><b>In a Jupyter environment, please rerun this cell to show the HTML representation or trust the notebook. <br />On GitHub, the HTML representation is unable to render, please try loading this page with nbviewer.org.</b></div><div class=\"sk-container\" hidden><div class=\"sk-item sk-dashed-wrapped\"><div class=\"sk-label-container\"><div class=\"sk-label sk-toggleable\"><input class=\"sk-toggleable__control sk-hidden--visually\" id=\"sk-estimator-id-1\" type=\"checkbox\" ><label for=\"sk-estimator-id-1\" class=\"sk-toggleable__label sk-toggleable__label-arrow\">RandomizedSearchCV</label><div class=\"sk-toggleable__content\"><pre>RandomizedSearchCV(cv=5, estimator=LogisticRegression(), n_iter=20,\n",
       "                   param_distributions={&#x27;C&#x27;: array([1.00000000e-04, 2.63665090e-04, 6.95192796e-04, 1.83298071e-03,\n",
       "       4.83293024e-03, 1.27427499e-02, 3.35981829e-02, 8.85866790e-02,\n",
       "       2.33572147e-01, 6.15848211e-01, 1.62377674e+00, 4.28133240e+00,\n",
       "       1.12883789e+01, 2.97635144e+01, 7.84759970e+01, 2.06913808e+02,\n",
       "       5.45559478e+02, 1.43844989e+03, 3.79269019e+03, 1.00000000e+04]),\n",
       "                                        &#x27;solver&#x27;: [&#x27;liblinear&#x27;]},\n",
       "                   verbose=True)</pre></div></div></div><div class=\"sk-parallel\"><div class=\"sk-parallel-item\"><div class=\"sk-item\"><div class=\"sk-label-container\"><div class=\"sk-label sk-toggleable\"><input class=\"sk-toggleable__control sk-hidden--visually\" id=\"sk-estimator-id-2\" type=\"checkbox\" ><label for=\"sk-estimator-id-2\" class=\"sk-toggleable__label sk-toggleable__label-arrow\">estimator: LogisticRegression</label><div class=\"sk-toggleable__content\"><pre>LogisticRegression()</pre></div></div></div><div class=\"sk-serial\"><div class=\"sk-item\"><div class=\"sk-estimator sk-toggleable\"><input class=\"sk-toggleable__control sk-hidden--visually\" id=\"sk-estimator-id-3\" type=\"checkbox\" ><label for=\"sk-estimator-id-3\" class=\"sk-toggleable__label sk-toggleable__label-arrow\">LogisticRegression</label><div class=\"sk-toggleable__content\"><pre>LogisticRegression()</pre></div></div></div></div></div></div></div></div></div></div>"
      ],
      "text/plain": [
       "RandomizedSearchCV(cv=5, estimator=LogisticRegression(), n_iter=20,\n",
       "                   param_distributions={'C': array([1.00000000e-04, 2.63665090e-04, 6.95192796e-04, 1.83298071e-03,\n",
       "       4.83293024e-03, 1.27427499e-02, 3.35981829e-02, 8.85866790e-02,\n",
       "       2.33572147e-01, 6.15848211e-01, 1.62377674e+00, 4.28133240e+00,\n",
       "       1.12883789e+01, 2.97635144e+01, 7.84759970e+01, 2.06913808e+02,\n",
       "       5.45559478e+02, 1.43844989e+03, 3.79269019e+03, 1.00000000e+04]),\n",
       "                                        'solver': ['liblinear']},\n",
       "                   verbose=True)"
      ]
     },
     "execution_count": 34,
     "metadata": {},
     "output_type": "execute_result"
    }
   ],
   "source": [
    "# tune logistic regression\n",
    "np.random.seed(42)\n",
    "# setup random hyperparameter search for logregression\n",
    "rs_log_reg = RandomizedSearchCV(LogisticRegression(), param_distributions=log_reg_grid, cv = 5 , n_iter =20, verbose = True)\n",
    "# fit random hyperparameter search model for logistic regression \n",
    "rs_log_reg.fit(x_train, y_train)"
   ]
  },
  {
   "cell_type": "code",
   "execution_count": 35,
   "id": "23ecb6ca-f96c-43e8-ba10-896f1693ae13",
   "metadata": {},
   "outputs": [
    {
     "data": {
      "text/plain": [
       "{'solver': 'liblinear', 'C': 0.23357214690901212}"
      ]
     },
     "execution_count": 35,
     "metadata": {},
     "output_type": "execute_result"
    }
   ],
   "source": [
    "rs_log_reg.best_params_"
   ]
  },
  {
   "cell_type": "code",
   "execution_count": 36,
   "id": "c88b8fcb-dcc6-495d-b968-7f0e36219fc0",
   "metadata": {},
   "outputs": [
    {
     "data": {
      "text/plain": [
       "0.8852459016393442"
      ]
     },
     "execution_count": 36,
     "metadata": {},
     "output_type": "execute_result"
    }
   ],
   "source": [
    "rs_log_reg.score(x_test,y_test)"
   ]
  },
  {
   "cell_type": "code",
   "execution_count": 37,
   "id": "e33ecda6-a6dc-4904-b397-8bfd9c5604cd",
   "metadata": {},
   "outputs": [],
   "source": [
    "# now we've tuned log reg now do the same for random forest classifier\n"
   ]
  },
  {
   "cell_type": "code",
   "execution_count": 38,
   "id": "878ed8d1-294b-4c00-93f4-e9b43ba9bcb8",
   "metadata": {},
   "outputs": [
    {
     "name": "stdout",
     "output_type": "stream",
     "text": [
      "Fitting 5 folds for each of 20 candidates, totalling 100 fits\n"
     ]
    },
    {
     "data": {
      "text/html": [
       "<style>#sk-container-id-2 {color: black;}#sk-container-id-2 pre{padding: 0;}#sk-container-id-2 div.sk-toggleable {background-color: white;}#sk-container-id-2 label.sk-toggleable__label {cursor: pointer;display: block;width: 100%;margin-bottom: 0;padding: 0.3em;box-sizing: border-box;text-align: center;}#sk-container-id-2 label.sk-toggleable__label-arrow:before {content: \"▸\";float: left;margin-right: 0.25em;color: #696969;}#sk-container-id-2 label.sk-toggleable__label-arrow:hover:before {color: black;}#sk-container-id-2 div.sk-estimator:hover label.sk-toggleable__label-arrow:before {color: black;}#sk-container-id-2 div.sk-toggleable__content {max-height: 0;max-width: 0;overflow: hidden;text-align: left;background-color: #f0f8ff;}#sk-container-id-2 div.sk-toggleable__content pre {margin: 0.2em;color: black;border-radius: 0.25em;background-color: #f0f8ff;}#sk-container-id-2 input.sk-toggleable__control:checked~div.sk-toggleable__content {max-height: 200px;max-width: 100%;overflow: auto;}#sk-container-id-2 input.sk-toggleable__control:checked~label.sk-toggleable__label-arrow:before {content: \"▾\";}#sk-container-id-2 div.sk-estimator input.sk-toggleable__control:checked~label.sk-toggleable__label {background-color: #d4ebff;}#sk-container-id-2 div.sk-label input.sk-toggleable__control:checked~label.sk-toggleable__label {background-color: #d4ebff;}#sk-container-id-2 input.sk-hidden--visually {border: 0;clip: rect(1px 1px 1px 1px);clip: rect(1px, 1px, 1px, 1px);height: 1px;margin: -1px;overflow: hidden;padding: 0;position: absolute;width: 1px;}#sk-container-id-2 div.sk-estimator {font-family: monospace;background-color: #f0f8ff;border: 1px dotted black;border-radius: 0.25em;box-sizing: border-box;margin-bottom: 0.5em;}#sk-container-id-2 div.sk-estimator:hover {background-color: #d4ebff;}#sk-container-id-2 div.sk-parallel-item::after {content: \"\";width: 100%;border-bottom: 1px solid gray;flex-grow: 1;}#sk-container-id-2 div.sk-label:hover label.sk-toggleable__label {background-color: #d4ebff;}#sk-container-id-2 div.sk-serial::before {content: \"\";position: absolute;border-left: 1px solid gray;box-sizing: border-box;top: 0;bottom: 0;left: 50%;z-index: 0;}#sk-container-id-2 div.sk-serial {display: flex;flex-direction: column;align-items: center;background-color: white;padding-right: 0.2em;padding-left: 0.2em;position: relative;}#sk-container-id-2 div.sk-item {position: relative;z-index: 1;}#sk-container-id-2 div.sk-parallel {display: flex;align-items: stretch;justify-content: center;background-color: white;position: relative;}#sk-container-id-2 div.sk-item::before, #sk-container-id-2 div.sk-parallel-item::before {content: \"\";position: absolute;border-left: 1px solid gray;box-sizing: border-box;top: 0;bottom: 0;left: 50%;z-index: -1;}#sk-container-id-2 div.sk-parallel-item {display: flex;flex-direction: column;z-index: 1;position: relative;background-color: white;}#sk-container-id-2 div.sk-parallel-item:first-child::after {align-self: flex-end;width: 50%;}#sk-container-id-2 div.sk-parallel-item:last-child::after {align-self: flex-start;width: 50%;}#sk-container-id-2 div.sk-parallel-item:only-child::after {width: 0;}#sk-container-id-2 div.sk-dashed-wrapped {border: 1px dashed gray;margin: 0 0.4em 0.5em 0.4em;box-sizing: border-box;padding-bottom: 0.4em;background-color: white;}#sk-container-id-2 div.sk-label label {font-family: monospace;font-weight: bold;display: inline-block;line-height: 1.2em;}#sk-container-id-2 div.sk-label-container {text-align: center;}#sk-container-id-2 div.sk-container {/* jupyter's `normalize.less` sets `[hidden] { display: none; }` but bootstrap.min.css set `[hidden] { display: none !important; }` so we also need the `!important` here to be able to override the default hidden behavior on the sphinx rendered scikit-learn.org. See: https://github.com/scikit-learn/scikit-learn/issues/21755 */display: inline-block !important;position: relative;}#sk-container-id-2 div.sk-text-repr-fallback {display: none;}</style><div id=\"sk-container-id-2\" class=\"sk-top-container\"><div class=\"sk-text-repr-fallback\"><pre>RandomizedSearchCV(cv=5, estimator=RandomForestClassifier(), n_iter=20,\n",
       "                   param_distributions={&#x27;max_depth&#x27;: [None, 3, 5, 10],\n",
       "                                        &#x27;min_samples_leaf&#x27;: array([ 1,  3,  5,  7,  9, 11, 13, 15, 17, 19]),\n",
       "                                        &#x27;min_samples_split&#x27;: array([ 2,  4,  6,  8, 10, 12, 14, 16, 18]),\n",
       "                                        &#x27;n_estimators&#x27;: array([ 10,  60, 110, 160, 210, 260, 310, 360, 410, 460, 510, 560, 610,\n",
       "       660, 710, 760, 810, 860, 910, 960])},\n",
       "                   verbose=True)</pre><b>In a Jupyter environment, please rerun this cell to show the HTML representation or trust the notebook. <br />On GitHub, the HTML representation is unable to render, please try loading this page with nbviewer.org.</b></div><div class=\"sk-container\" hidden><div class=\"sk-item sk-dashed-wrapped\"><div class=\"sk-label-container\"><div class=\"sk-label sk-toggleable\"><input class=\"sk-toggleable__control sk-hidden--visually\" id=\"sk-estimator-id-4\" type=\"checkbox\" ><label for=\"sk-estimator-id-4\" class=\"sk-toggleable__label sk-toggleable__label-arrow\">RandomizedSearchCV</label><div class=\"sk-toggleable__content\"><pre>RandomizedSearchCV(cv=5, estimator=RandomForestClassifier(), n_iter=20,\n",
       "                   param_distributions={&#x27;max_depth&#x27;: [None, 3, 5, 10],\n",
       "                                        &#x27;min_samples_leaf&#x27;: array([ 1,  3,  5,  7,  9, 11, 13, 15, 17, 19]),\n",
       "                                        &#x27;min_samples_split&#x27;: array([ 2,  4,  6,  8, 10, 12, 14, 16, 18]),\n",
       "                                        &#x27;n_estimators&#x27;: array([ 10,  60, 110, 160, 210, 260, 310, 360, 410, 460, 510, 560, 610,\n",
       "       660, 710, 760, 810, 860, 910, 960])},\n",
       "                   verbose=True)</pre></div></div></div><div class=\"sk-parallel\"><div class=\"sk-parallel-item\"><div class=\"sk-item\"><div class=\"sk-label-container\"><div class=\"sk-label sk-toggleable\"><input class=\"sk-toggleable__control sk-hidden--visually\" id=\"sk-estimator-id-5\" type=\"checkbox\" ><label for=\"sk-estimator-id-5\" class=\"sk-toggleable__label sk-toggleable__label-arrow\">estimator: RandomForestClassifier</label><div class=\"sk-toggleable__content\"><pre>RandomForestClassifier()</pre></div></div></div><div class=\"sk-serial\"><div class=\"sk-item\"><div class=\"sk-estimator sk-toggleable\"><input class=\"sk-toggleable__control sk-hidden--visually\" id=\"sk-estimator-id-6\" type=\"checkbox\" ><label for=\"sk-estimator-id-6\" class=\"sk-toggleable__label sk-toggleable__label-arrow\">RandomForestClassifier</label><div class=\"sk-toggleable__content\"><pre>RandomForestClassifier()</pre></div></div></div></div></div></div></div></div></div></div>"
      ],
      "text/plain": [
       "RandomizedSearchCV(cv=5, estimator=RandomForestClassifier(), n_iter=20,\n",
       "                   param_distributions={'max_depth': [None, 3, 5, 10],\n",
       "                                        'min_samples_leaf': array([ 1,  3,  5,  7,  9, 11, 13, 15, 17, 19]),\n",
       "                                        'min_samples_split': array([ 2,  4,  6,  8, 10, 12, 14, 16, 18]),\n",
       "                                        'n_estimators': array([ 10,  60, 110, 160, 210, 260, 310, 360, 410, 460, 510, 560, 610,\n",
       "       660, 710, 760, 810, 860, 910, 960])},\n",
       "                   verbose=True)"
      ]
     },
     "execution_count": 38,
     "metadata": {},
     "output_type": "execute_result"
    }
   ],
   "source": [
    "np.random.seed(42)\n",
    "# setup random hyperparameter search for random forest classifier \n",
    "rs_rf = RandomizedSearchCV(RandomForestClassifier(), param_distributions=rf_grid, cv = 5, n_iter = 20, verbose = True)\n",
    "# fit random hperparameter model for random forest classifier\n",
    "rs_rf.fit(x_train, y_train)"
   ]
  },
  {
   "cell_type": "code",
   "execution_count": 39,
   "id": "475554f3-51c3-44a0-bb3f-c35e299b5539",
   "metadata": {},
   "outputs": [
    {
     "data": {
      "text/plain": [
       "{'n_estimators': 210,\n",
       " 'min_samples_split': 4,\n",
       " 'min_samples_leaf': 19,\n",
       " 'max_depth': 3}"
      ]
     },
     "execution_count": 39,
     "metadata": {},
     "output_type": "execute_result"
    }
   ],
   "source": [
    "rs_rf.best_params_"
   ]
  },
  {
   "cell_type": "code",
   "execution_count": 40,
   "id": "479748df-840e-4dc4-9460-cfe80a048ee3",
   "metadata": {},
   "outputs": [
    {
     "data": {
      "text/plain": [
       "{'Logistic Regression': 0.8852459016393442,\n",
       " 'KNN': 0.6885245901639344,\n",
       " 'Random Forest': 0.8360655737704918}"
      ]
     },
     "execution_count": 40,
     "metadata": {},
     "output_type": "execute_result"
    }
   ],
   "source": [
    "model_scores"
   ]
  },
  {
   "cell_type": "code",
   "execution_count": 41,
   "id": "d93dc797-02ca-4208-a715-b5140002e071",
   "metadata": {},
   "outputs": [
    {
     "data": {
      "text/plain": [
       "0.8688524590163934"
      ]
     },
     "execution_count": 41,
     "metadata": {},
     "output_type": "execute_result"
    }
   ],
   "source": [
    "rs_rf.score(x_test,y_test)"
   ]
  },
  {
   "cell_type": "code",
   "execution_count": 42,
   "id": "cb4d87a3-ab62-416a-9b17-ec86b351a2a5",
   "metadata": {},
   "outputs": [],
   "source": [
    "# 1. by hand\n",
    "# 2. randomsearchcv\n",
    "# 3. grid search cv (exhaustive search)"
   ]
  },
  {
   "cell_type": "markdown",
   "id": "98de10f2",
   "metadata": {},
   "source": [
    "## Hyperparameter tuning with grid search cv\n",
    "( no n_iter in grid search because it searches all ) "
   ]
  },
  {
   "cell_type": "code",
   "execution_count": 43,
   "id": "549f8997-8d75-4805-bdaa-ebb6ff20ea6b",
   "metadata": {},
   "outputs": [
    {
     "name": "stdout",
     "output_type": "stream",
     "text": [
      "Fitting 5 folds for each of 30 candidates, totalling 150 fits\n"
     ]
    }
   ],
   "source": [
    "log_reg_grid = {\"C\": np.logspace(-4,4,30), \n",
    "                \"solver\": [\"liblinear\"]}\n",
    "# setip grid hyperparameter search \n",
    "gs_log_reg = GridSearchCV(LogisticRegression(), param_grid= log_reg_grid, cv =5, verbose = True)\n",
    "# fit grid hyperparameter search model \n",
    "gs_log_reg.fit(x_train, y_train);"
   ]
  },
  {
   "cell_type": "code",
   "execution_count": 46,
   "id": "b6d313c6-ffb7-48d6-84a6-2cb6c90f9703",
   "metadata": {},
   "outputs": [
    {
     "data": {
      "text/plain": [
       "{'C': 0.20433597178569418, 'solver': 'liblinear'}"
      ]
     },
     "execution_count": 46,
     "metadata": {},
     "output_type": "execute_result"
    }
   ],
   "source": [
    "gs_log_reg.best_params_"
   ]
  },
  {
   "cell_type": "code",
   "execution_count": 47,
   "id": "e44d888a-7298-4b24-a167-10fb679f0a62",
   "metadata": {},
   "outputs": [
    {
     "data": {
      "text/plain": [
       "{'Logistic Regression': 0.8852459016393442,\n",
       " 'KNN': 0.6885245901639344,\n",
       " 'Random Forest': 0.8360655737704918}"
      ]
     },
     "execution_count": 47,
     "metadata": {},
     "output_type": "execute_result"
    }
   ],
   "source": [
    "model_scores"
   ]
  },
  {
   "cell_type": "code",
   "execution_count": 49,
   "id": "41844644-48fe-49b3-a7a8-9663e491d63c",
   "metadata": {},
   "outputs": [
    {
     "data": {
      "text/plain": [
       "0.8852459016393442"
      ]
     },
     "execution_count": 49,
     "metadata": {},
     "output_type": "execute_result"
    }
   ],
   "source": [
    "gs_log_reg.score(x_test, y_test)"
   ]
  },
  {
   "cell_type": "markdown",
   "id": "483b18a2",
   "metadata": {},
   "source": [
    "# Evaluating our tuned machine learning classifier , beyond accuracy\n",
    "* AUC curve\n",
    "* Confusion Matrix\n",
    "* Classification Report\n",
    "* Precision\n",
    "* Recall\n",
    "* F!- score\n"
   ]
  },
  {
   "cell_type": "code",
   "execution_count": 54,
   "id": "4e5864c2-2d7b-498f-9e3a-22db3a9f92f2",
   "metadata": {},
   "outputs": [
    {
     "data": {
      "text/plain": [
       "array([0, 1, 1, 0, 1, 1, 1, 0, 0, 1, 1, 0, 1, 0, 1, 1, 1, 0, 0, 0, 1, 0,\n",
       "       0, 1, 1, 1, 1, 1, 0, 1, 0, 0, 0, 0, 1, 0, 1, 1, 1, 1, 1, 1, 1, 1,\n",
       "       1, 0, 1, 1, 0, 0, 0, 0, 1, 1, 0, 0, 0, 1, 0, 0, 0], dtype=int64)"
      ]
     },
     "execution_count": 54,
     "metadata": {},
     "output_type": "execute_result"
    }
   ],
   "source": [
    "# make prediction with tuned model\n",
    "y_preds = gs_log_reg.predict(x_test)\n",
    "y_preds"
   ]
  },
  {
   "cell_type": "code",
   "execution_count": 55,
   "id": "af634219-91a7-4dd7-94b2-c75a9be171aa",
   "metadata": {},
   "outputs": [
    {
     "data": {
      "text/plain": [
       "179    0\n",
       "228    0\n",
       "111    1\n",
       "246    0\n",
       "60     1\n",
       "      ..\n",
       "249    0\n",
       "104    1\n",
       "300    0\n",
       "193    0\n",
       "184    0\n",
       "Name: target, Length: 61, dtype: int64"
      ]
     },
     "execution_count": 55,
     "metadata": {},
     "output_type": "execute_result"
    }
   ],
   "source": [
    "y_test"
   ]
  },
  {
   "cell_type": "code",
   "execution_count": 60,
   "id": "88ea5cd5-0afd-4c88-adad-56cce4ac49aa",
   "metadata": {},
   "outputs": [],
   "source": [
    "# roc curve compares the true positive rate with the false positive rate\n",
    "# confusion matrix - true positive = model predicts 1 when truth is 1\n",
    "                    # false positive = model predicts 1 when truth is 0\n",
    "                    # true negative = model predicts 0 when truth is 0 \n",
    "                    # false negative = model predicts 0 when truth is \n"
   ]
  },
  {
   "cell_type": "code",
   "execution_count": 62,
   "id": "2a5c9907-bca6-4ccf-8098-abe8bbf87190",
   "metadata": {},
   "outputs": [
    {
     "name": "stdout",
     "output_type": "stream",
     "text": [
      "[[25  4]\n",
      " [ 3 29]]\n"
     ]
    }
   ],
   "source": [
    "print(confusion_matrix(y_test, y_preds))"
   ]
  },
  {
   "cell_type": "code",
   "execution_count": 64,
   "id": "be804ceb-dcad-4a14-8473-b825bc6e6d1b",
   "metadata": {},
   "outputs": [
    {
     "data": {
      "image/png": "iVBORw0KGgoAAAANSUhEUgAAAToAAAE4CAYAAADLij9XAAAAOXRFWHRTb2Z0d2FyZQBNYXRwbG90bGliIHZlcnNpb24zLjcuMSwgaHR0cHM6Ly9tYXRwbG90bGliLm9yZy/bCgiHAAAACXBIWXMAAA9hAAAPYQGoP6dpAAAucElEQVR4nO3dd1QU198G8GfBpSwdRBFEUBSxRLG3iF0SEk35WcEajXltKSZqYkkxaowttlhQo4KowaBGo0YFGyZRETGJAtIRAUHpbaXt+wdhI6G47C4sDs/nHM+JM3fnflfD4525M3dEMplMBiIiAdPSdAFERHWNQUdEgsegIyLBY9ARkeAx6IhI8Bh0RCR4DDoiEjwGHREJXhNNF9DQFfy8VtMlkBpZeezSdAmkRlm50Qq144iOiASPQUdEgsegIyLBY9ARkeAx6IhI8Bh0RCR4DDoiEjwGHREJHoOOiASPQUdEgsegIyLBY9ARkeAx6IhI8Bh0RCR4DDoiEjwGHREJHoOOiASPQUdEgsegIyLBY9ARkeAx6IhI8Bh0RCR4DDoiEjwGHREJHoOOiASPQUdEgsegIyLBY9ARkeAx6IhI8Bh0RCR4DDoiEjwGHREJHoOOiASPQUdEgtdEkUalpaVq6UxLi7lKRPVPoaDr1KmTyh2JRCKEhoaqfBwiotpSKOhkMlld10FEVGcUCjovL6+6roOIqM4oFHS9e/eu6zqIiOqM2mcH8vLy1H1IIiKVqBx0aWlp2LBhA15//XV07twZvXr1AgA8fvwYkydPxm+//aZykUREqlDo1LU6t2/fxrx585CRkSGfsBCJRACApKQkBAUFITg4GEuWLMGkSZNUr5aISAlKj+geP36M2bNnIz09HV26dMHy5cvRtm1b+f7mzZujX79+KC0txapVqxAcHKyWgomIakvpoNu7dy+ysrIwZswY/Pjjj/Dw8ICxsbF8v5WVFfbt24cJEyZAJpPh4MGDaimYiKi2lA66y5cvQ09PD59++mmN7RYuXAh9fX2O6IhIY5QOuuTkZDg4OMDQ0LDGdgYGBmjdujXS09OV7YqISCVKT0aIxWJkZWUp1LagoAD6+vrKdkUqSMnMg9fVv/F7xEMkZ+QCAKzNjeDSwRZTXF6CuWHFv5eiklL0W3YAxSXVP99sqKeDaysm12ndpDptbW34X/wJ3Xt0wez3FuGQj5+mS9IYpYPOwcEBf//9N+Lj42FnZ1dtu6ioKMTGxsLZ2VnZrkhJt2Mf4YP9F5BTUAhtLRFsLYxRUipD/OMs7E/JxC/BUdg+8xU4tjCXfyYmJQPFJaXQEzeBk41Flcc10BXX11cgFXy8cDa69+ii6TIaBKWDzs3NDX/++SeWLVuGPXv2QFdXt1Kb9PR0LFy4ECKRCK6urioVSrWTXfAUH3sFIKegEAPat8SXYwfC0lgCAHiYlo1lP17FnbgUfHTAH8c+fhu64rL/FSKSyy4x9Ghjhe9n8O/sRfXSSx2wcNFcTZfRYCh9jW7ixIlwcnJCUFAQXF1d8fXXXyM5ORkA4OPjg6+++gqvvvoqwsLCYG9vj4kTJ6qtaHq+k7cikZEnhaWxBGs9hshDDgBaWhhj45RhMNbXQWJ6Dvz/jpPvi0gqC7q2Vmb1XTKpiVgsxs7d66GtrQ2p9Kmmy2kQlA46HR0d7N69G87Oznj06BEOHTqER48eAQBWrlyJI0eOICsrC46OjvD09ISenp7aiqbnuxVd9o+OSwdbGOjpVNpvbqiPrnbNAQB3Ex7Lt5eP6Bh0L66lyz5E585O2LnjAFJSHj//A42ASk9GWFpa4siRIwgICIC/vz8iIiKQm5sLfX19tG7dGkOGDIGbmxuaNFGpG1LCzGHOGP6SPewsTaptI0PZ0yylzyzDVR507Rh0L6SevZwx/4OZiIyIwYov1+P1USM1XVKDoJYEGjZsGIYNG6aOQ5GadLa1RGdby2r3Z+RJcSu6bATu0Lws1FKz8pCRJ4W2lggSXR3sDriDuw8eQ1pUDGtzQwzrbI+XnWzrpX6qPT09XezctQ4ikQhzZi/maesz1DbUkkqliIuLg1QqhbGxMezs7KCtra2uw5Oarf35OqRFxdATN8Hwl+wB/DuaEwEYu/EYnhaXVPjM8ZsRGOhkizXug6s8HSbN+urrxWjn2AZbN+/BzRu3NV1Og6Jy0F2/fh2enp64efMmSkr+/cHQ1dWFi4sL5syZAycnJ1W7QU5ODgIDAxEeHo7U1FTk5+dDJpNBX18fzZo1Q/v27TFgwACYm5s//2CN3O6AEJy9Ew0AeG+4s/xeuvKgKy6VYUjnVpg+uAscmpsiV1oE/79jseXsLQSGJ2CRzyXOyDYwLw/sg1nvTcb9+1H4esUGTZfT4KgUdNu2bcP3339f5VLrUqkU58+fx+XLl7FmzRq4ubkp1UdeXh6+++47+Pr6oqioqNpl3UUiEcRiMcaOHYsFCxbAwMBAqf6EbueF29h5IQQAMLhjK0wb/O99Vu2szDG2nxOaGkrw3ohu8u264iYY378jHFuY452dp/Hb/Ye4Fp7A09gGwtDQANt3rkVpaSnm/N9iPH1aqOmSGhylg+7333/Htm3bAACjR4/GuHHj0L59exgYGCAnJwehoaHw8vLCpUuXsHjxYrRt2xaOjo616qOgoAAeHh64f/8+9PT00L9/f7Rr1w7NmjWTz+JKpVKkpqYiMjISN27cwKFDh3Dnzh14eXkx7J5RXFKKNSf+wE83wgEA/R1t8K3HEPmyWgAwsIMtBnaoPry6tbZCn7bWuB6ZhIt34xl0DcQ3a5bCzq4lNm3chVtBdzRdToOkdNB5eXlBJBLhww8/xHvvvVdhn4mJCfr164d+/frh22+/xb59+7Br1y5s2FC7IfXOnTsRHh6OoUOHYvXq1TA1Na2xfWZmJpYsWYJLly5h3759mDdvXm2/liDlSgvxiXcArkcmAQBcu7bGyvGDIG5S+2uoTjYWuB6ZhMSMHHWXSUoYPmIQpkwbj/DwSKxauUnT5TRYSt9HFxISAnNzc8yaNavGdgsWLICJiQmuX79e6z5+/fVXNGvWDJs2bXpuyAGAqakpvvvuO1haWuLXX3+tdX9ClJKZh2nbf5GH3NRBL2GN+5BqQ66ktLTG51zLX/HbhO/obRDe/t9rAAAnp3Z4nB6GrNzoCr/s7FoCAHbsWous3Gj8ctZHk+VqjNIjuqdPn6JVq1YVTn2qIhaLYWtri8jIyFr38ejRIwwePBg6OorP8Onq6qJbt264cuVKrfsTmsfZ+Zi56zQS0nKgrSXCp2/0w9h+Hapt/+o3P+JRZi4WvNYbk11eqrJNeNITAIBDc9O6KJlqKToqFn/8fqva/d26vwQ9PV1ERcbi8eM0hN6LqMfqGg6VHuqPjY2FVCqt8amHoqIiJCQkoFWrVrXuw8LCQv60RW0kJCRAIpE8v6GAFRWX4IN9F5CQlgOxtha+9RiCoZ3ta/xMm2amSM7Ixenb0Zg4oBOaaFcctf394DGC/nniwrVrm7oqnWphw/od2LB+R7X7/7p3BXZ2LbFh/Y5GvXqJ0ucfU6dORW5uLlavXl1ju23btiErKwvu7u617qN79+7466+/cPz4cYU/c+jQIYSGhjb6VzTuu/wXQhPLRl+fvdn/uSEHANMHd4FIBIQnpeGrn64hV/rv7F1QdDI+OnABMhnwWncHdKrhZmSihkahEd0ff/xRaZulpSV69eqFo0ePIiYmBu7u7ujYsSMMDAyQn5+PmJgY+Pn5ISAgAK+88gpGjBhR6+LmzZuHgIAALFmyBL/88guGDx8OR0dHNG/eHPr6+hCJRCgoKMDjx48RGRmJ8+fP49q1a9DX12/UExFFxSU4GHgXANBES4STwZE4GVz9pYOXnVpi5lBn9HRogYWj+mLDLzdwKjgSF/6KgZ2lCXKlRUhMz5G3/fx/L9fL9yBSF4WCbvr06TVeiwsODq5xqfRz587h/PnzCA0NrVVx9vb2OHDgABYsWIDffvsNv//+e43tZTIZrK2tsWbNmgov6mlsIh9lILugbDRWXCrDnbiUGtvbWvz7rg/3lzuhi10zHAy8i9uxjxCdkgkDXTF6t22BN3o6wq2bw3OvyxI1NCJZdXfgPkMdTzYAQHh4uFKfKykpwS+//IJLly4hIiJC/mSElpYWDAwM0Lx5c7Rv3x6DBg3CiBEjqlwbT1kFP69V27FI86w8dmm6BFKjrNxohdopFHSNGYNOWBh0wqJo0PFmKCISvHoLOmVuEyEiUgeVHuovKCjA8ePHERERAalUitLSinfUl5SUoKCgAI8ePUJERATu3r2rUrFERMpQOuiys7MxYcIExMbGVtonk8kqzMzxMiARaZLSp65eXl6IiYmBSCRCnz59MGzYMMhkMjg5OeH1119Hz5495Qtv9unTB/7+/mormoioNpQe0V28eBEikQhr1qzB6NGjUVJSgl69eqFZs2ZYv349gLJ3us6cORO3b9+GVCpVW9FERLWh9IguISEBpqamGD16NICyt4J36NABt2//u4Rz27ZtsWLFChQVFeHAgQOqV0tEpASlg66goADW1tYVtjk4OCA3NxeJiYnybS4uLrCwsMDNmzeVr5KISAVKB52hoWGl09GWLcvWvoqJiamwvUWLFkhJqfkxJCKiuqJ00LVt2xbx8fFIS0uTb7Ozs4NMJkNYWFiFtunp6Xw+kog0Rumgc3FxQXFxMebNm4fo6LLHMLp27QotLS0cOXIEWVlZAIDz588jKSlJPtojIqpvSgfdxIkTYWVlhZCQEIwaNQqFhYWwsrKCi4sLkpKS4OrqirfffhsfffQRRCIRhg4dqs66iYgUpnTQGRkZ4cCBA+jVqxdMTEzky50vXrwY5ubmyMzMRGhoKEpKStCqVSu8++67aiuaiKg21LJ6SXp6eoUXR6enp+Onn37Cw4cP0aZNG4wZMwaGhoaqdqMRXL1EWLh6ibAounqJSs+6lns25Mp//7y3gxER1Rcu00REgqfQiM7Dw0PljkQiEQ4ePKjycYiIakuhoKvpfRCK4n10RKQpCgVdY36jFhG9+Bh0RCR4nIwgIsFj0BGR4DHoiEjwGHREJHgMOiISPAYdEQkeg46IBI9BR0SCp9ANw6WlpWrpTEuLuUpE9U+hoOvUqZPKHYlEIoSGhqp8HCKi2lIo6NSwNqdajkFEpAyFgs7Ly6vK7du2bcPNmzfRt29fTJgwAR06dICxsTGePn2KyMhI+Pr64sKFCxg5ciSWLFmi1sKJiBSlUND17t270rbTp08jKCgIkydPxtKlSyvtt7KywsCBA7F582bs3LkTffv2hbu7u+oVExHVktKzA/v374eRkREWLlxYY7u5c+fCxMQEhw8fVrYrIiKVKB10kZGRsLOzk7/9qzpNmjSBra0tHjx4oGxXREQqUTroDA0NkZyc/Nx2RUVFePDgAczMzJTtiohIJUoHXefOnZGWlob9+/fX2G7z5s3IyspCz549le2KiEglSr/ucPr06bhy5QrWrl2LyMhIvPXWW2jXrh0kEglyc3MRFhaGw4cPw9/fHzo6Opg5c6Y66yYiUphKL7D29PTExo0bq33xjUwmg1gsxurVqzFq1Cili9QkvsBaWPgCa2FR9AXWKj2TNWvWLPj4+GDAgAEQi8WQyWTyX7q6uhg5ciSOHTv2woYcEQmD0qeu5Xr06IE9e/ZAKpUiMTER2dnZMDU1hbW1NXR1ddVRIxGRSlQOunJ6enpwcHBQ1+GIiNRGLUEXGBiIS5cuISYmBjk5OfDz80N2dja8vLzg7u4Oc3NzdXRDRKQUlYIuLS0NH374IW7dugWgbPKhfGIiKSkJ27Ztg7e3Nzw9PdG1a1fVqyUiUoLSkxGFhYWYMWMGgoKCYGBggBEjRqB58+b/HlhLC6ampsjKysL06dORmJioloKJiGpL6aDz8fFBeHg4nJ2dcf78eWzZsgU2Njby/Y6OjvD390e3bt1QUFCAffv2qaVgIqLaUjroTp8+DS0tLaxbt67aa3CGhoZYv349tLW1ERgYqHSRRESqUDroYmJi4ODgAFtb2xrb2djYwN7eXqHnYomI6oLSQVeb90iIxWJoa2sr2xURkUqUnnW1sbFBXFwccnNzYWhoWG27jIwMREZGwt7eXtmuNMpo7GZNl0BqVJDESyiNkdIjukGDBqGoqAjr1q2rsd3KlStRUlKCgQMHKtsVEZFKlB7RzZgxA35+fvD19UVaWhpGjRqFnJwcAEB0dDQiIiLg4+OD4OBgGBgYYNq0aeqqmYioVlRavSQ4OBhz5sxBVlZWlSuYyGQySCQSbNq0CS4uLioVqilNdGye34heGDx1FRZx0zYKtVNp9ZIePXrg5MmTmDJlClq0aFFh9RILCwuMGTMGJ06ceGFDjoiEQaUR3X/l5+cjJycHEokERkZG6jqsRnFEJywc0QlLnY/otm3bhmPHjlXYJpFI0Lx580oht2PHjue+LYyIqK6oFHR+fn4Ktb1w4QL8/f2V7YqISCUKzbomJibijz/+qLT9yZMn+Omnn6r9nEwmQ1JSEiIiIiCRSJSvkohIBQpdo5NKpXB1dUVqaqpSnchkMri6umLz5hfv5lteoxMWXqMTFkWv0Sk0otPT08Mnn3yC7777Tr4tKSkJOjo6aNq0abWf09LSgkQiQceOHbFo0SKFCiIiUjelZ12dnJzQo0cP+Pj4qLumBoUjOmHhiE5Y1Dqiq8q8efPQokULZT9ORFRvVL6PLicnB2fPnsW4ceMqbN+3bx/y8vIwYcKEGk9vGzqO6ISFIzphqZcnIwIDAzF48GB88cUXSElJqbDv6tWr+P777+Hm5oZr166p0g0RkUqUDrp79+5h9uzZyMvLg729PQoLCyvsd3V1RadOnZCdnY358+cjPj5e5WKJiJShdNDt2bMHxcXFcHd3x5kzZyqtNDxhwgQcPXoUHh4eKCgogKenp8rFEhEpQ+lrdAMHDkRhYSECAwOho6NTbbunT5+if//+MDIywuXLl5WtU2N4jU5YeI1OWOr8Gl1GRgZsbW1rDDkA0NXVhZ2dHZ48eaJsV0REKlE66CwsLCpNQFQnIyOjxuXWiYjqktJB17FjRzx58gRnz56tsd2lS5eQnJyMTp06KdsVEZFKlA66sWPHQiaTYcmSJfjxxx8rzboWFhbi2LFjWLRoEUQiEcaOHatysUREylDphuFFixbh5MmTEIlEEIvFsLe3h0QiQV5eHh48eIDCwkLIZDK4ublh48aN6qy73nAyQlg4GSEsik5GqBR0paWl2LNnD3bv3i1/Mc6zJBIJpk2bhrlz576w73Vl0AkLg05Y6iXoyhUVFeHWrVuIj49HZmYm9PX1YW9vj549e8LAwEDVw2sUg05YGHTCUq9BJ2QMOmFh0AlLvTzrSkT0IlBomSYPDw+IRCKsX78eVlZW8m21IRKJcPDgwdpXSESkIoWCLjg4GCKRCAUFBRW21UZVL7gmIqoPCgXd3LlzIRKJYGZmJt82b968OiuKiEidOBnxHJyMEBZORggLJyOIiP6h0KlraWmpWjrT0mKuElH9Uyjo1PFAvkgkQmhoqMrHISKqLYWCTh2X8XgpkIg0RaGg8/LyqnL7tm3bcPPmTfTt2xcTJkxAhw4dYGxsjKdPnyIyMhK+vr64cOECRo4ciSVLlqi1cCIiRSkUdL1796607fTp0wgKCsLkyZOxdOnSSvutrKwwcOBAbN68GTt37kTfvn3h7u6uesVERLWk9O0lY8eORXx8PK5du1bjcurFxcV4+eWXYWlpiVOnTildqKbw9hJh4e0lwlLnt5dERkbCzs7uue+MaNKkCWxtbfHgwQNluyIiUonSQWdoaIjk5OTntisqKsKDBw8qPFVBRFSflA66zp07Iy0tDfv376+x3ebNm5GVlYWePXsq2xURkUoUmoyoyvTp03HlyhWsXbsWkZGReOutt9CuXTtIJBLk5uYiLCwMhw8fhr+/P3R0dDBz5kx11k1EpDCVnnX19PTExo0bq12ZRCaTQSwWY/Xq1Rg1apTSRWoSJyOEhZMRwlIvz7rOmjULPj4+GDBgAMRiMWQymfyXrq4uRo4ciWPHjr2wIUdEwqC21UukUikSExORnZ0NU1NTWFtbQ1dXVx2H1iiO6ISFIzphUXREp/Q1uv/S09ODg4ODug5HRKQ2agm6wMBAXLp0CTExMcjJyYGfnx+ys7Ph5eUFd3d3mJubq6MbIiKlqBR0aWlp+PDDD3Hr1i0AZZMP5RMTSUlJ2LZtG7y9veHp6YmuXbuqXi2pTdu2rbFo4VwMH+YCKytLpKdn4sbN29ixYz/8A3h611A9Sn2MA4eP4dqNYCQ/SgUA2LRojkEDemPqxP/Bwsy00mciomOx9+BRBN3+C5nZ2bBqZok+Pbpi2sT/wc62cVyaUfoaXWFhIcaNG4fw8HAYGhqif//++PPPP5GamoqwsDBERERgypQpyMzMhEQiwalTp2Bj8+L9oQrxGt3IEYPw09G9kEj0kZeXj8ioWFg2NYeNTQsAwIYNO7D4s5UarrJuvMjX6ILv3MX8T79Cdk4utLW10MrGGiWlpUhMfoSSklI0tTDDro2r0L5ta/lnTp27iOWrv0NxcTF0dMRo29oe6ZmZeJTyGDo6Yqxa+jFeHT5Ig99KNXU+6+rj44Pw8HA4Ozvj/Pnz2LJlS4Ugc3R0hL+/P7p164aCggLs27dP2a5IjSwszHDQ+3tIJPo48uMJ2Np1R89eI2HXuicmTZmL4uJifPzxbLz1lpumS6VnZOfk4qOlK5Gdk4uX+/aE/zFvnDq8G2d+3ItfDu9Bty4d8SQtAx98tgJPnxYCAELvR8lDbvCAPgg47g3fH7bA/5gXvvl8IWQyGRZ9+S1C/hb+OpFKB93p06ehpaWFdevWVXsNztDQEOvXr4e2tjYCA1/cf0mFZMY77jA3N0Ns7AO8M+MjZGfnyPcdOXICe/YeAgC89+5kTZVIVfj5zAWkZ2ahWVMLbFjxGSyb/vszZ2vTAptXL4exkSEeJj3C+cvXAAC79h9GcXEx2rWxx3erlsLM1ET+mVGuQzFl/NuQyWRYteH7ev8+9U3poIuJiYGDgwNsbW1rbGdjYwN7e3uFnouluhcXn4DDR45j564DKCwsrLT/77/DAACt7FrWd2lUg5u3/wIADBrQGwYGkkr7zc1M4fxSRwDA3bAIlJSU4Peg2wCASePehFgsrvSZyePfBACER8bgflRsHVXeMCg9GVGb90iIxWJoa2sr2xWpka/vSfj6nqx2f48eXQAAUZHC/h//RTNr2gSMGPIy7GuYPCi/3F5aUoqMrGwUFEgBAJ3at62yfVNzMxgbGSI7Jxd/3QurcG1PaJQOOhsbG8TFxSE3NxeGhobVtsvIyEBkZCTs7e2V7YrqgYmJMd6fPwPTpo5HUVER1q0X/unMi+SlDu3xUof21e7PyMzCrZCyUZ9Dm1YVHsts0qT6H/Oi4mIAQGJyqpoqbZiUPnUdNGhQ2Q/EunU1tlu5ciVKSkowcOBAZbuiOvTWW264ExKAxIQQfPH5J3j4MBn/GzMDgdduaLo0qoU1m3aiQPoU+nq6GDH4ZZiZGMPwn1Pc8MjoKj+TmJwiH/Vl5+RU2UYolA66GTNmwMTEBL6+vpg3bx7OnTuHnH/+sKKjo3H27FlMmjQJZ86cgYGBAaZNm6aumkmNevdyRudOTtDT0wMAmJmZ4LXXRsDQ0EDDlZGidu0/jNMXLgMA/m+6OyzMTKGlpQWX/mWvQPjh0E9VXo/1PHBE/t/lIzuhUulZ1+DgYMyZMwdZWVlVrmAik8kgkUiwadMmuLi4qFSopgjxPrpn2di0QEZGJoyNjTBixCB8+80yNGvWFEG37uDlgaNRUlKi6RLV6kW+j64q23/wwfa9BwEAQ17uiy1rPpf/LMbEJ2D8O/NRIH2K7l064ZN5M9HB0QFP0jNx8OgJHDh8DGamxsjIzMbYN9zwxaL5mvwqSlH0PjqVH+pPSUnB3r174e/vj6SkJPn2pk2bYvDgwZg1axZatWqlShcaJfSg+y9HRwcEB52Dvr4+3pnxEby8fTVdkloJJeiKi0uwauN2HP35DABgQJ8e2PLN59DVrfhqg99uBOPj5auRm5dfYbu2thZmT/dAZEw8zl28iunuY/Dx3Bn1Vr+61HnQxcbGwt7evsJILj8/Hzk5OZBIJDAyMlLmsA1OYws6APA6sBXuE9/GAS9fzJj5kabLUSshBF1uXh4+WroKfwSFAABeGeaCb5Z/UuUtJADwJD0DR0+cwd//3HbiYN8Kb70+Eu3a2GPavEW4FfI3Fn/wHiaPe7Mev4V61PnqJe+//z7y8vLg5+cnfx+ERCKBRFL5Hh9VrFyp2qNIy5YtU1MlwmBmZorW9raIf/AQaWkZVbZ58CARAGDV3LI+SyMFPEp9jNkff47ImDgAwHT3MVgw551qF78Fym4jmf2OR6XtpaWliPjn/jlHB/u6KLfBUDroEhIS0KJFizp/6Y2fnx+kUqn897UZgIpEIgbdf1z//TQcHOyx+NOvsWHjzirbtGpVNopNTHpUn6XRczx+ko7p8xYjITEZ2tpaWPLRHIx/67Vq21/9/SaiYh+gd/cu6NzBsdL+WyF/IzsnF/p6uujauUNdlq5xSgedgYFBrW4aVtbx48cxZ84cxMTEwNbWFm+88Uad9ylkF/yvwsHBHjNmeGDzlj0o/s9sm51dS7z5xqsAgF9OX9BEiVSFoqIizF30JRISkyEWN8G6rz7F8EEDavzMhSu/4fgv5+E2YjDWfrm4wj6ZTAZPr7JZ1/+NegV6AlgktyZKB527uzu2bt2KH374Ae+88446a6rA3t4e3t7emDhxIhISEtC5c2cMHjy4zvoTug0bd2DK5LFwbNcGB72/x9x5n8pPYZ2dO8Hn4A5IJPq4evUPnDx5TsPVUrm9B48i9H4kAGDpgrnPDTkAePPVETj+y3mc9b+Cl/v2xOhXhgEou8b37RZPXL91BybGRnh36oQ6rb0hUHoy4urVq9i5cydCQkJgbW2Nbt26wdLSUn4/VlU++OADpQsNCwvD+PHj0bRpU/z666/PfXG2ughxMuI1t+E45LMDBgYSSKVS3I+IgZ6eLto7lq0Qff16MN54a2q11/BeZC/iZERRUREGjXJHdk4ummhr46VO1T8hAQAD+/bCrH/Ca/22Pdh/2A9A2TVXc1MTxMYnoED6FCbGRtizeTU6OFb9iNiLoM5nXZ2cnCASieTXzGq6GFq+IGdYWJgyXcmtW7cOe/fuxaefflpvNyALMegAwMHBHh8vmI0Rw11gY2OF/PwC3L0bDp9Dx7Bv/5FKp7RC8SIG3b3wSIyf8b7C7d94dThWLftY/vvzlwJxyO8UwiOiIX1aCKtmTeHSvzdmTBqL5pZN66LkelPnQTd5cu2X8fH29lamK7ny5dmtrKwwZswYlY6lKKEGXWP1IgYdVa/ebhgWOgadsDDohKVe3utKRPQiqPWsa2hoKO7cuYO8vDy0aNEC/fv351u+iKhBUzjoEhISsHjxYoSEhFTYLhaLMX36dLz//vtcXJOIGiSFgi43NxdTp05FcnJypScTCgsL4enpiYyMDKxYsaJOiiQiUoVC1+h8fHyQlJQEAwMDfP755wgMDMSdO3dw4sQJvPHGG5DJZDh69Ciio6te4I+ISJMUGtFdvnwZIpEIO3bsQK9eveTbnZyc8O2330JPTw++vr4ICAiAg4NDnRVLRKQMhUZ0cXFxsLa2rhByz5owYQJkMhnu37+v1uKIiNRBoaDLzc2FhYVFtfvbtCm7lyUzM1MtRRERqZNCQVdUVFTton4AoPvPygdPnz5VT1VERGqk1huG+ZAFETVEfDKCiASPQUdEgqfwkxE5OTkICgpSqU11s7ZERHVJodVLyteeU6kjkQihoaEqHUMTuHqJsHD1EmFR+1vAONFARC8qhYIuICCgrusgIqozCgWdjQ1P34joxcVZVyISPAYdEQkeg46IBI9BR0SCx6AjIsFj0BGR4DHoiEjwGHREJHgMOiISPAYdEQkeg46IBI9BR0SCx6AjIsFj0BGR4DHoiEjwGHREJHgMOiISPAYdEQkeg46IBI9BR0SCx6AjIsFj0BGR4DHoiEjwGHREJHgMOiISPAYdEQkeg46IBI9BR0SCx6AjIsFj0BGR4DHoiEjwRDKZTKbpIoiI6hJHdEQkeAw6IhI8Bh0RCR6DjogEj0FHRILHoCMiwWPQEZHgMeiISPAYdEQkeAw6IhI8Bh0RCR6DjogEj0FHRILHoGukYmNj8cknn2DIkCHo0qULRo4cie+++w75+fmaLo3UIC4uDs7OzlixYoWmS2kQGHSN0F9//YW3334bp06dQtOmTTF48GDk5+dj586dmDBhAnJzczVdIqngyZMnmDNnDgoKCjRdSoPBoGtkiouLsWDBAuTn52PVqlU4evQotmzZAn9/fwwdOhT379/Hxo0bNV0mKSksLAzu7u6Ijo7WdCkNCoOukTl9+jQSEhLQr18/jBkzRr5dT08Pq1evhkQiga+vL7KysjRYJdVWVlYW1q1bh3HjxiE+Ph4tW7bUdEkNCoOukbl48SIAYMSIEZX2mZmZoU+fPigqKkJgYGB9l0Yq8PLywp49e2Bubo4dO3bgzTff1HRJDQqDrpGJiIgAALRv377K/W3btgUAhIeH11tNpDorKyssXrwY586dw9ChQzVdToPTRNMFUP1KTU0FADRv3rzK/c2aNavQjl4MY8eO1XQJDRpHdI1M+e0jenp6Ve4v387bTEhIGHSNjLa2NgBAJBLV2I4vhyMhYdA1MgYGBgBQ7T1WUqkUAKCvr19vNRHVNQZdI1N+De7x48dV7i+/NlfejkgIGHSNTPlsa1RUVJX7y7dXNytL9CJi0DUygwYNAgCcO3eu0r6MjAzcuHEDYrEYAwYMqO/SiOoMg66RGTFiBKytrXHt2jX4+PjIt0ulUixduhT5+fkYM2YMmjZtqsEqidSL99E1Mnp6elizZg1mzZqFFStWwM/PDy1btkRISAhSU1PRsWNHfPLJJ5ouk0itOKJrhPr06YOjR4/C1dUVSUlJuHz5MoyMjDBnzhx4e3vD0NBQ0yUSqZVIxhumiEjgOKIjIsFj0BGR4DHoiEjwGHREJHgMOiISPAYdEQkeg46IBI9BR0SCx6AjIsHjs66EY8eO4bPPPqv153r37g1vb+86qKjufPrppzh+/Hi91V6+3NW+ffvQv3//Ou3rxo0bmDJlCgDg3r17aNKEP97l+CdBsLCwQPfu3SttT05ORnJyMnR0dNC5c+dK+x0dHeujPCKVMegIgwYNkq9T96ytW7di27ZtsLS0xOHDhzVQGZF68BodEQkeg46IBI+nrqSy8gvuv/32G9asWYOAgABoaWmhU6dO+OGHH7Bs2TIcP34co0aNwvr16yt9vnwyxMbGBhcvXqy0PygoCN7e3rh9+zYyMzNhbGwMZ2dnTJ48Gf369avz71cuOzsbR44cwZUrVxAVFYXc3Fzo6+ujVatWGDJkCKZMmQITE5NqP3/y5EkcOHAAUVFR0NPTg7OzM6ZMmVLtsvWFhYU4fPgwzpw5g6ioKBQVFaFFixYYPHgwZsyYwRcY1QKDjtRm/vz5CAkJgaOjI9LT02FpaanyzN/69euxe/duAICJiQkcHR2RmpqKgIAABAQEYObMmVi4cKE6yq9RXFwcpk2bhuTkZDRp0gStWrWCjY0NEhMTce/ePdy7dw+nT5+Gn5+f/JWSz9q+fTuCgoJgYGCAtm3byhc8vXz5MubPn4958+ZVaJ+amopZs2YhLCwMIpEI1tbWMDU1RVRUFPbv348TJ05g+/bt6NGjR51/dyFg0JHa3L17F97e3ujVqxdKS0uRnZ2t0vGOHDmC3bt3w9jYGMuXL8fo0aMBlL1c++zZs1i6dCn27NkDe3t7jB07Vh1foVrLly9HcnIynJ2dsXXrVvloSiaT4eeff8Znn32G2NhYnDhxAh4eHpU+HxQUhDFjxmDp0qWQSCQoKSmBp6cnNm3ahK1bt6JHjx7y0alMJsP777+PsLAw9OjRAytXrkSbNm0AADk5Ofjmm2/g5+eHuXPn4tSpU7C0tKzT7y4EvEZHavPqq6+iV69eAAAtLS2YmpoqfazCwkJs3boVALB69Wp5yAGASCSCm5ubfCS3detWFBcXK1/4c6SlpSEyMhIA8PXXX1c4ZRSJRHjzzTfRu3dvAMD9+/erPEb37t2xcuVKSCQSAIC2tjZmz54t/167du2Stw0ICEBISAiaNWuGPXv2yEMOAIyMjLBq1Sp07doVGRkZ2L9/v1q/q1Ax6Eht1HkaFRISgidPnsDAwADDhg2rss3o0aOhpaWFlJQUhIaGqq3v/7KwsMD169fx559/VnnvYElJifw9G1KptMpjeHh4QCQSVdo+btw4AGUjvvz8fACAv78/AGD48OHyYHyWSCSSB+SlS5eU+EaND09dSW3UeQpVPoIqKiqq8lSwnLa2NkpLSxETE4MuXbqorf+q6OnpITk5GX/++ScePHiAhIQEREdHIywsTB5SpaWlVX62Y8eOVW4vn8gpLi5GfHw8OnTogIiICABlIRYeHl7l58ovC8TFxUEmk1UZovQvBh2pjZ6entqOlZOTA6DsFPb27dvPba/q9cDniYmJwdq1a3HlypUKYWZoaIiePXsiNTW12lACUOUExX+3FxQUAAByc3MB/PtkSk1KSkqQl5fHN7c9B4OO6k11L5wr/wF/lr6+PgCgU6dOOHbsWJ3W9TxpaWmYNGkS0tLSYG1tjXHjxqFjx45o06YNWrZsCZFIhI8//rjGoCsf8f1XeaADkN+aUv7dly9fjkmTJqnxmzReDDqqc9ra2gDKTkOrkpqaWmlb69atAZSdmhUXF1d5m4pMJsONGzdgZWUFa2tr6OjoqLHqf/n5+SEtLQ2mpqbw8/ODubl5pTYpKSk1HiMmJkb+nZ5Vfm1RV1cXrVq1AlD23cPDw+Wn71VJTk5GSkoKrK2teT+dAjgZQXXOzMwMQNkP+3+VlJRUeZNwr169YGRkhLy8vGpHdKdOncLUqVPx6quv4tGjR+ot+hkPHz4EAFhbW1cZclFRUbhz5w6Asu9TFT8/vyq3l6+g4uLiArFYDAAYMmQIAODMmTNIS0ur8nNLlizB+PHjsWDBAsW/SCPGoKM6Vz4bGxkZCS8vL/kpbFZWFpYsWSK/+P4siUSCWbNmAQBWrVoFPz+/CtfG/P398cUXXwAou62lfDSkqKKiIqSnp9f4q/x0s/z2jvDwcJw7d05+DJlMhqtXr2LmzJny0WpVp+FA2S0jGzduRGFhIYCya4/ffvstLl68CLFYjLlz58rburm5wdHREdnZ2ZgxY0aFkV1ubi6+/PJL/P777xCJRPI/I6oZT12pzg0aNAg9e/bErVu3sGrVKvzwww8wMzNDTEwMioqKMH/+fPk9c8969913kZCQAF9fXyxZsgTr1q1Dy5YtkZKSIj/dLb8/rbZCQkKe+/jYlClTsHTpUowZMwaHDh1CfHw83n//fdjY2MDMzAzJyclIS0uDWCxG7969cfPmzWpPYV1dXbFr1y78+OOPaNmyJRISEpCVlQWxWIxvvvkGHTp0kLcVi8XYvn07Zs6cibCwMLz++uto3bo19PX1ERcXJw/gzz77DC4uLrX+7o0Rg47qnJaWFvbu3Yt9+/bh9OnTiI+PR0FBAfr164fZs2fD1NS0yqATiUT4+uuv4erqiiNHjuDOnTsICwuDrq4unJ2d8frrr2P8+PF1dm2unKGhIX766Sfs3r0bly5dwsOHD/HkyRNYWVlh8ODBmDp1KiQSCYYPH47w8HAkJSXB2tq6wjGWLVuGPn364PDhw4iIiIChoSHc3Nzw3nvvwcnJqVKftra2OH78OA4fPoxz584hOjoaUqkUZmZmGDhwICZPniy/OZueTySrbiqMiEggeI2OiASPQUdEgsegIyLBY9ARkeAx6IhI8Bh0RCR4DDoiEjwGHREJHoOOiASPQUdEgsegIyLBY9ARkeAx6IhI8P4f23uw41HLJTUAAAAASUVORK5CYII=",
      "text/plain": [
       "<Figure size 300x300 with 1 Axes>"
      ]
     },
     "metadata": {},
     "output_type": "display_data"
    }
   ],
   "source": [
    "sns.set(font_scale=1.5)\n",
    "def plot_conf_mat(y_test,y_preds):\n",
    "    fig,ax = plt.subplots(figsize=(3,3))\n",
    "    ax = sns.heatmap(confusion_matrix(y_test, y_preds), \n",
    "                     annot= True,\n",
    "                     cbar = False)\n",
    "    plt.xlabel(\"True Label\")\n",
    "    plt.ylabel(\"Predicted label\")\n",
    "plot_conf_mat(y_test, y_preds)\n",
    "\n",
    "\n"
   ]
  },
  {
   "cell_type": "markdown",
   "id": "7972321e",
   "metadata": {},
   "source": [
    "now we've got a conf matrix . Lets get a classification report as well as cross validated precission recall and f1 score"
   ]
  },
  {
   "cell_type": "code",
   "execution_count": 66,
   "id": "1faa2ef2-843c-4902-aed4-52f0f622c879",
   "metadata": {},
   "outputs": [
    {
     "name": "stdout",
     "output_type": "stream",
     "text": [
      "              precision    recall  f1-score   support\n",
      "\n",
      "           0       0.89      0.86      0.88        29\n",
      "           1       0.88      0.91      0.89        32\n",
      "\n",
      "    accuracy                           0.89        61\n",
      "   macro avg       0.89      0.88      0.88        61\n",
      "weighted avg       0.89      0.89      0.89        61\n",
      "\n"
     ]
    }
   ],
   "source": [
    "print(classification_report(y_test,y_preds))\n",
    "# this is only for one test data"
   ]
  },
  {
   "cell_type": "code",
   "execution_count": null,
   "id": "d9d7b47e-6b78-485a-a585-feca309289f4",
   "metadata": {},
   "outputs": [],
   "source": [
    "# precision - model which produces no positives has a precision of 1\n",
    "# recall - model which produceds no false negatives has recall of 1\n",
    "#  f1 - combination of precision and recall\n",
    "#  support - no of samples each metric was calculated upon"
   ]
  },
  {
   "cell_type": "code",
   "execution_count": 67,
   "id": "3985517a-570e-45bc-9534-0e919e16ffee",
   "metadata": {},
   "outputs": [
    {
     "data": {
      "text/plain": [
       "{'C': 0.20433597178569418, 'solver': 'liblinear'}"
      ]
     },
     "execution_count": 67,
     "metadata": {},
     "output_type": "execute_result"
    }
   ],
   "source": [
    "gs_log_reg.best_params_"
   ]
  },
  {
   "cell_type": "code",
   "execution_count": 68,
   "id": "e4844526-bd31-429f-aa22-3db51636b1da",
   "metadata": {},
   "outputs": [],
   "source": [
    "clf = LogisticRegression(C=0.20433597178569418,solver = \"liblinear\")\n"
   ]
  },
  {
   "cell_type": "code",
   "execution_count": 69,
   "id": "177d1de1-4e50-43f9-b50f-3b7543dd75a6",
   "metadata": {},
   "outputs": [
    {
     "data": {
      "text/plain": [
       "0.8446994535519124"
      ]
     },
     "execution_count": 69,
     "metadata": {},
     "output_type": "execute_result"
    }
   ],
   "source": [
    "# cross validated accuracy\n",
    "cv_acc = cross_val_score(clf, x,y, cv =5 , scoring = \"accuracy\")\n",
    "cv_acc = np.mean(cv_acc)\n",
    "cv_acc"
   ]
  },
  {
   "cell_type": "code",
   "execution_count": 70,
   "id": "787c2eda-c08d-4527-b4de-54087bed9738",
   "metadata": {},
   "outputs": [
    {
     "data": {
      "text/plain": [
       "0.8207936507936507"
      ]
     },
     "execution_count": 70,
     "metadata": {},
     "output_type": "execute_result"
    }
   ],
   "source": [
    "# cv precision\n",
    "cv_pre = cross_val_score(clf, x,y, cv =5 , scoring = \"precision\")\n",
    "cv_pre = np.mean(cv_pre)\n",
    "cv_pre"
   ]
  },
  {
   "cell_type": "code",
   "execution_count": 71,
   "id": "2f812e26-4b02-4dc5-ad8f-769e5aaf6396",
   "metadata": {},
   "outputs": [
    {
     "data": {
      "text/plain": [
       "0.9212121212121213"
      ]
     },
     "execution_count": 71,
     "metadata": {},
     "output_type": "execute_result"
    }
   ],
   "source": [
    "# cv recall score\n",
    "cv_recall = cross_val_score(clf, x,y, cv =5 , scoring = \"recall\")\n",
    "cv_recall = np.mean(cv_recall)\n",
    "cv_recall"
   ]
  },
  {
   "cell_type": "code",
   "execution_count": 72,
   "id": "250d3c06-16fe-426b-b095-960eda1a9fc7",
   "metadata": {},
   "outputs": [
    {
     "data": {
      "text/plain": [
       "0.8673007976269721"
      ]
     },
     "execution_count": 72,
     "metadata": {},
     "output_type": "execute_result"
    }
   ],
   "source": [
    "# cv f1 score\n",
    "cv_f1 = cross_val_score(clf, x,y, cv =5 , scoring = \"f1\")\n",
    "cv_f1 = np.mean(cv_f1)\n",
    "cv_f1"
   ]
  },
  {
   "cell_type": "code",
   "execution_count": 73,
   "id": "ee6d5531-282d-4fbf-b4c9-25c77a2449c2",
   "metadata": {},
   "outputs": [
    {
     "data": {
      "image/png": "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",
      "text/plain": [
       "<Figure size 640x480 with 1 Axes>"
      ]
     },
     "metadata": {},
     "output_type": "display_data"
    }
   ],
   "source": [
    "# visualize our cv metrics\n",
    "cv_metrics = pd.DataFrame({\"Accuracy\" : cv_acc, \n",
    "                           \"Precision\": cv_pre,\n",
    "                           \"Recall\" : cv_recall,\n",
    "                           \"F1 score\": cv_f1}, \n",
    "                          index = [0])\n",
    "\n",
    "cv_metrics.T.plot.bar(title= \"Cross-validated classification metrics\",\n",
    "                      legend = False);"
   ]
  },
  {
   "cell_type": "code",
   "execution_count": 76,
   "id": "d9ac0019-00b2-4f51-9bd1-3bf1c43ad067",
   "metadata": {},
   "outputs": [
    {
     "data": {
      "text/html": [
       "<style>#sk-container-id-3 {color: black;}#sk-container-id-3 pre{padding: 0;}#sk-container-id-3 div.sk-toggleable {background-color: white;}#sk-container-id-3 label.sk-toggleable__label {cursor: pointer;display: block;width: 100%;margin-bottom: 0;padding: 0.3em;box-sizing: border-box;text-align: center;}#sk-container-id-3 label.sk-toggleable__label-arrow:before {content: \"▸\";float: left;margin-right: 0.25em;color: #696969;}#sk-container-id-3 label.sk-toggleable__label-arrow:hover:before {color: black;}#sk-container-id-3 div.sk-estimator:hover label.sk-toggleable__label-arrow:before {color: black;}#sk-container-id-3 div.sk-toggleable__content {max-height: 0;max-width: 0;overflow: hidden;text-align: left;background-color: #f0f8ff;}#sk-container-id-3 div.sk-toggleable__content pre {margin: 0.2em;color: black;border-radius: 0.25em;background-color: #f0f8ff;}#sk-container-id-3 input.sk-toggleable__control:checked~div.sk-toggleable__content {max-height: 200px;max-width: 100%;overflow: auto;}#sk-container-id-3 input.sk-toggleable__control:checked~label.sk-toggleable__label-arrow:before {content: \"▾\";}#sk-container-id-3 div.sk-estimator input.sk-toggleable__control:checked~label.sk-toggleable__label {background-color: #d4ebff;}#sk-container-id-3 div.sk-label input.sk-toggleable__control:checked~label.sk-toggleable__label {background-color: #d4ebff;}#sk-container-id-3 input.sk-hidden--visually {border: 0;clip: rect(1px 1px 1px 1px);clip: rect(1px, 1px, 1px, 1px);height: 1px;margin: -1px;overflow: hidden;padding: 0;position: absolute;width: 1px;}#sk-container-id-3 div.sk-estimator {font-family: monospace;background-color: #f0f8ff;border: 1px dotted black;border-radius: 0.25em;box-sizing: border-box;margin-bottom: 0.5em;}#sk-container-id-3 div.sk-estimator:hover {background-color: #d4ebff;}#sk-container-id-3 div.sk-parallel-item::after {content: \"\";width: 100%;border-bottom: 1px solid gray;flex-grow: 1;}#sk-container-id-3 div.sk-label:hover label.sk-toggleable__label {background-color: #d4ebff;}#sk-container-id-3 div.sk-serial::before {content: \"\";position: absolute;border-left: 1px solid gray;box-sizing: border-box;top: 0;bottom: 0;left: 50%;z-index: 0;}#sk-container-id-3 div.sk-serial {display: flex;flex-direction: column;align-items: center;background-color: white;padding-right: 0.2em;padding-left: 0.2em;position: relative;}#sk-container-id-3 div.sk-item {position: relative;z-index: 1;}#sk-container-id-3 div.sk-parallel {display: flex;align-items: stretch;justify-content: center;background-color: white;position: relative;}#sk-container-id-3 div.sk-item::before, #sk-container-id-3 div.sk-parallel-item::before {content: \"\";position: absolute;border-left: 1px solid gray;box-sizing: border-box;top: 0;bottom: 0;left: 50%;z-index: -1;}#sk-container-id-3 div.sk-parallel-item {display: flex;flex-direction: column;z-index: 1;position: relative;background-color: white;}#sk-container-id-3 div.sk-parallel-item:first-child::after {align-self: flex-end;width: 50%;}#sk-container-id-3 div.sk-parallel-item:last-child::after {align-self: flex-start;width: 50%;}#sk-container-id-3 div.sk-parallel-item:only-child::after {width: 0;}#sk-container-id-3 div.sk-dashed-wrapped {border: 1px dashed gray;margin: 0 0.4em 0.5em 0.4em;box-sizing: border-box;padding-bottom: 0.4em;background-color: white;}#sk-container-id-3 div.sk-label label {font-family: monospace;font-weight: bold;display: inline-block;line-height: 1.2em;}#sk-container-id-3 div.sk-label-container {text-align: center;}#sk-container-id-3 div.sk-container {/* jupyter's `normalize.less` sets `[hidden] { display: none; }` but bootstrap.min.css set `[hidden] { display: none !important; }` so we also need the `!important` here to be able to override the default hidden behavior on the sphinx rendered scikit-learn.org. See: https://github.com/scikit-learn/scikit-learn/issues/21755 */display: inline-block !important;position: relative;}#sk-container-id-3 div.sk-text-repr-fallback {display: none;}</style><div id=\"sk-container-id-3\" class=\"sk-top-container\"><div class=\"sk-text-repr-fallback\"><pre>LogisticRegression(C=0.20433597178569418, solver=&#x27;liblinear&#x27;)</pre><b>In a Jupyter environment, please rerun this cell to show the HTML representation or trust the notebook. <br />On GitHub, the HTML representation is unable to render, please try loading this page with nbviewer.org.</b></div><div class=\"sk-container\" hidden><div class=\"sk-item\"><div class=\"sk-estimator sk-toggleable\"><input class=\"sk-toggleable__control sk-hidden--visually\" id=\"sk-estimator-id-7\" type=\"checkbox\" checked><label for=\"sk-estimator-id-7\" class=\"sk-toggleable__label sk-toggleable__label-arrow\">LogisticRegression</label><div class=\"sk-toggleable__content\"><pre>LogisticRegression(C=0.20433597178569418, solver=&#x27;liblinear&#x27;)</pre></div></div></div></div></div>"
      ],
      "text/plain": [
       "LogisticRegression(C=0.20433597178569418, solver='liblinear')"
      ]
     },
     "execution_count": 76,
     "metadata": {},
     "output_type": "execute_result"
    }
   ],
   "source": [
    "# finding feature importance is different for different machine learrning models\n",
    "\n",
    "clf = LogisticRegression(C =0.20433597178569418, solver = \"liblinear\")\n",
    "\n",
    "clf.fit(x_train, y_train)\n",
    "\n"
   ]
  },
  {
   "cell_type": "code",
   "execution_count": 77,
   "id": "dfebe354-b406-4a77-a2ed-6c2bc78d7412",
   "metadata": {},
   "outputs": [
    {
     "data": {
      "text/plain": [
       "array([[ 0.00316728, -0.86044652,  0.6606704 , -0.01156993, -0.00166375,\n",
       "         0.04386107,  0.31275848,  0.02459362, -0.60413081, -0.56862803,\n",
       "         0.45051628, -0.63609898, -0.67663373]])"
      ]
     },
     "execution_count": 77,
     "metadata": {},
     "output_type": "execute_result"
    }
   ],
   "source": [
    "# Check coef\n",
    "clf.coef_"
   ]
  },
  {
   "cell_type": "code",
   "execution_count": 78,
   "id": "0f5f37c5",
   "metadata": {},
   "outputs": [
    {
     "data": {
      "text/plain": [
       "{'age': 0.0031672806268220445,\n",
       " 'sex': -0.8604465226286001,\n",
       " 'cp': 0.6606703996492814,\n",
       " 'trestbps': -0.011569930743501303,\n",
       " 'chol': -0.001663745833540806,\n",
       " 'fbs': 0.043861067871676124,\n",
       " 'restecg': 0.3127584791782968,\n",
       " 'thalach': 0.02459361509185037,\n",
       " 'exang': -0.6041308102637141,\n",
       " 'oldpeak': -0.5686280255489925,\n",
       " 'slope': 0.4505162810238786,\n",
       " 'ca': -0.6360989756865822,\n",
       " 'thal': -0.67663372723561}"
      ]
     },
     "execution_count": 78,
     "metadata": {},
     "output_type": "execute_result"
    }
   ],
   "source": [
    "# match coef of features to columns\n",
    "feature_dict = dict(zip(df.columns, list(clf.coef_[0])))\n",
    "feature_dict"
   ]
  },
  {
   "cell_type": "code",
   "execution_count": 79,
   "id": "50908acc",
   "metadata": {},
   "outputs": [
    {
     "data": {
      "image/png": "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",
      "text/plain": [
       "<Figure size 640x480 with 1 Axes>"
      ]
     },
     "metadata": {},
     "output_type": "display_data"
    }
   ],
   "source": [
    "#  visualize feature importance\n",
    "feature_df = pd.DataFrame(feature_dict, index=[0])\n",
    "feature_df.T.plot.bar(title = \"Feature Importance\", legend = False);\n"
   ]
  },
  {
   "cell_type": "code",
   "execution_count": 81,
   "id": "4049208e",
   "metadata": {},
   "outputs": [
    {
     "data": {
      "text/html": [
       "<div>\n",
       "<style scoped>\n",
       "    .dataframe tbody tr th:only-of-type {\n",
       "        vertical-align: middle;\n",
       "    }\n",
       "\n",
       "    .dataframe tbody tr th {\n",
       "        vertical-align: top;\n",
       "    }\n",
       "\n",
       "    .dataframe thead th {\n",
       "        text-align: right;\n",
       "    }\n",
       "</style>\n",
       "<table border=\"1\" class=\"dataframe\">\n",
       "  <thead>\n",
       "    <tr style=\"text-align: right;\">\n",
       "      <th>target</th>\n",
       "      <th>0</th>\n",
       "      <th>1</th>\n",
       "    </tr>\n",
       "    <tr>\n",
       "      <th>sex</th>\n",
       "      <th></th>\n",
       "      <th></th>\n",
       "    </tr>\n",
       "  </thead>\n",
       "  <tbody>\n",
       "    <tr>\n",
       "      <th>0</th>\n",
       "      <td>24</td>\n",
       "      <td>72</td>\n",
       "    </tr>\n",
       "    <tr>\n",
       "      <th>1</th>\n",
       "      <td>114</td>\n",
       "      <td>93</td>\n",
       "    </tr>\n",
       "  </tbody>\n",
       "</table>\n",
       "</div>"
      ],
      "text/plain": [
       "target    0   1\n",
       "sex            \n",
       "0        24  72\n",
       "1       114  93"
      ]
     },
     "execution_count": 81,
     "metadata": {},
     "output_type": "execute_result"
    }
   ],
   "source": [
    "pd.crosstab(df[\"sex\"], df[\"target\"])"
   ]
  },
  {
   "cell_type": "code",
   "execution_count": null,
   "id": "c2acad32",
   "metadata": {},
   "outputs": [],
   "source": []
  }
 ],
 "metadata": {
  "kernelspec": {
   "display_name": "Python 3 (ipykernel)",
   "language": "python",
   "name": "python3"
  },
  "language_info": {
   "codemirror_mode": {
    "name": "ipython",
    "version": 3
   },
   "file_extension": ".py",
   "mimetype": "text/x-python",
   "name": "python",
   "nbconvert_exporter": "python",
   "pygments_lexer": "ipython3",
   "version": "3.11.4"
  }
 },
 "nbformat": 4,
 "nbformat_minor": 5
}
